{
 "cells": [
  {
   "cell_type": "markdown",
   "id": "b606520d",
   "metadata": {},
   "source": [
    "# Numerical Analysis Final Project: Lasso vs Ridge Regression"
   ]
  },
  {
   "cell_type": "code",
   "execution_count": 3,
   "id": "9a3a01de",
   "metadata": {},
   "outputs": [
    {
     "name": "stderr",
     "output_type": "stream",
     "text": [
      "\u001b[32m\u001b[1m    Updating\u001b[22m\u001b[39m registry at `~/.julia/registries/General.toml`\n",
      "\u001b[32m\u001b[1m   Resolving\u001b[22m\u001b[39m package versions...\n",
      "\u001b[32m\u001b[1m  No Changes\u001b[22m\u001b[39m to `~/.julia/environments/v1.7/Project.toml`\n",
      "\u001b[32m\u001b[1m  No Changes\u001b[22m\u001b[39m to `~/.julia/environments/v1.7/Manifest.toml`\n",
      "\u001b[32m\u001b[1m   Resolving\u001b[22m\u001b[39m package versions...\n",
      "\u001b[32m\u001b[1m  No Changes\u001b[22m\u001b[39m to `~/.julia/environments/v1.7/Project.toml`\n",
      "\u001b[32m\u001b[1m  No Changes\u001b[22m\u001b[39m to `~/.julia/environments/v1.7/Manifest.toml`\n",
      "\u001b[32m\u001b[1m   Resolving\u001b[22m\u001b[39m package versions...\n",
      "\u001b[32m\u001b[1m  No Changes\u001b[22m\u001b[39m to `~/.julia/environments/v1.7/Project.toml`\n",
      "\u001b[32m\u001b[1m  No Changes\u001b[22m\u001b[39m to `~/.julia/environments/v1.7/Manifest.toml`\n"
     ]
    }
   ],
   "source": [
    "using Pkg\n",
    "Pkg.add(\"Pandas\")\n",
    "using Pandas\n",
    "using LinearAlgebra\n",
    "Pkg.add(\"DataFrames\")\n",
    "using DataFrames\n",
    "Pkg.add(\"CSV\")\n",
    "using CSV"
   ]
  },
  {
   "cell_type": "markdown",
   "id": "21e3d701",
   "metadata": {},
   "source": [
    "## Import data"
   ]
  },
  {
   "cell_type": "code",
   "execution_count": 4,
   "id": "a2de6fb6",
   "metadata": {},
   "outputs": [],
   "source": [
    "matrix_data_temp = CSV.File(\"median_housing_cost_data.tsv\") |> Tables.matrix\n",
    "matrix_data = matrix_data_temp[:,2:9];"
   ]
  },
  {
   "cell_type": "code",
   "execution_count": 5,
   "id": "4ee058d4",
   "metadata": {},
   "outputs": [],
   "source": [
    "matrix_target_temp = CSV.File(\"housing_cost_targets.tsv\") |> Tables.matrix\n",
    "matrix_target = matrix_target_temp[:,2];"
   ]
  },
  {
   "cell_type": "code",
   "execution_count": 6,
   "id": "ee2793bf",
   "metadata": {},
   "outputs": [],
   "source": [
    "# train test split (test proportion of 20%) - test has 4128 samples, train has 16512 samples\n",
    "\n",
    "matrix_data_train = matrix_data[1:16512, :];\n",
    "matrix_data_test = matrix_data[16513:20640, :];\n",
    "\n",
    "matrix_target_train = matrix_target[1:16512, :];\n",
    "matrix_target_test = matrix_target[16513:20640, :];"
   ]
  },
  {
   "cell_type": "code",
   "execution_count": 7,
   "id": "60520714",
   "metadata": {},
   "outputs": [],
   "source": [
    "# normalize data (min max normalize)\n",
    "#comment this out and run cell above if we wish to do it without normalizing\n",
    "\n",
    "for i in 1:size(matrix_data_train)[2]\n",
    "    \n",
    "    matrix_data_train[:,i] = (matrix_data_train[:,i] .- findmin(matrix_data_train[:,i])[1]) ./ (findmax(matrix_data_train[:,i])[1] - findmin(matrix_data_train[:,i])[1]);\n",
    "    matrix_data_test[:,i] = (matrix_data_test[:,i] .- findmin(matrix_data_test[:,i])[1]) ./ (findmax(matrix_data_test[:,i])[1] - findmin(matrix_data_test[:,i])[1]);\n",
    "\n",
    "end\n",
    "\n",
    "matrix_target_train = (matrix_target_train .- findmin(matrix_target_train)[1]) ./ (findmax(matrix_target_train)[1] - findmin(matrix_target_train)[1]);\n",
    "matrix_target_test = (matrix_target_test .- findmin(matrix_target_test)[1]) ./ (findmax(matrix_target_test)[1] - findmin(matrix_target_test)[1]);"
   ]
  },
  {
   "cell_type": "code",
   "execution_count": 35,
   "id": "82afa2c5",
   "metadata": {},
   "outputs": [
    {
     "data": {
      "text/html": [
       "Unnamed: 0    20639.000000\n",
       "MedInc            2.388600\n",
       "HouseAge         16.000000\n",
       "AveRooms          5.254717\n",
       "AveBedrms         1.162264\n",
       "Population     1387.000000\n",
       "AveOccup          2.616981\n",
       "Latitude         39.370000\n",
       "Longitude      -121.240000\n",
       "Name: 20639, dtype: float64\n"
      ],
      "text/plain": [
       "Unnamed: 0    20639.000000\n",
       "MedInc            2.388600\n",
       "HouseAge         16.000000\n",
       "AveRooms          5.254717\n",
       "AveBedrms         1.162264\n",
       "Population     1387.000000\n",
       "AveOccup          2.616981\n",
       "Latitude         39.370000\n",
       "Longitude      -121.240000\n",
       "Name: 20639, dtype: float64\n"
      ]
     },
     "execution_count": 35,
     "metadata": {},
     "output_type": "execute_result"
    }
   ],
   "source": [
    "x = iloc(df)[0]"
   ]
  },
  {
   "cell_type": "code",
   "execution_count": null,
   "id": "63f85459",
   "metadata": {},
   "outputs": [],
   "source": []
  },
  {
   "cell_type": "markdown",
   "id": "75200bd4",
   "metadata": {},
   "source": [
    "## Motivating factor"
   ]
  },
  {
   "cell_type": "code",
   "execution_count": null,
   "id": "cdef5f46",
   "metadata": {},
   "outputs": [],
   "source": [
    "# talk about median household costs and how maximizing posterior probabilities to estimate cost is goal"
   ]
  },
  {
   "cell_type": "code",
   "execution_count": null,
   "id": "69eb3bcb",
   "metadata": {},
   "outputs": [],
   "source": []
  },
  {
   "cell_type": "code",
   "execution_count": null,
   "id": "0a6742e3",
   "metadata": {},
   "outputs": [],
   "source": []
  },
  {
   "cell_type": "markdown",
   "id": "addc8dd1",
   "metadata": {},
   "source": [
    "## Regression tasks derived from maximizing posterior probabilities"
   ]
  },
  {
   "cell_type": "code",
   "execution_count": null,
   "id": "31b41861",
   "metadata": {},
   "outputs": [],
   "source": []
  },
  {
   "cell_type": "code",
   "execution_count": null,
   "id": "37843f87",
   "metadata": {},
   "outputs": [],
   "source": []
  },
  {
   "cell_type": "code",
   "execution_count": null,
   "id": "f501813e",
   "metadata": {},
   "outputs": [],
   "source": []
  },
  {
   "cell_type": "markdown",
   "id": "80429285",
   "metadata": {},
   "source": [
    "## Solutions to regression tasks"
   ]
  },
  {
   "cell_type": "code",
   "execution_count": null,
   "id": "768dcb40",
   "metadata": {},
   "outputs": [],
   "source": []
  },
  {
   "cell_type": "code",
   "execution_count": null,
   "id": "ec865fdb",
   "metadata": {},
   "outputs": [],
   "source": []
  },
  {
   "cell_type": "code",
   "execution_count": null,
   "id": "db72868a",
   "metadata": {},
   "outputs": [],
   "source": []
  },
  {
   "cell_type": "code",
   "execution_count": null,
   "id": "20571f23",
   "metadata": {},
   "outputs": [],
   "source": []
  },
  {
   "cell_type": "markdown",
   "id": "4a2bf9dc",
   "metadata": {},
   "source": [
    "## Code solutions for regression tasks"
   ]
  },
  {
   "cell_type": "code",
   "execution_count": 49,
   "id": "e64bab2d",
   "metadata": {},
   "outputs": [
    {
     "data": {
      "text/plain": [
       "linear_regression_ridge (generic function with 1 method)"
      ]
     },
     "execution_count": 49,
     "metadata": {},
     "output_type": "execute_result"
    }
   ],
   "source": [
    "function linear_regression_ridge(X,y,lambda)\n",
    "    \n",
    "    s = size(X)[1]\n",
    "    Im =1* Matrix(I, s, s)\n",
    "    \n",
    "    w = inv(transpose(X)*X + lambda*Im) * transpose(X) * y\n",
    "    \n",
    "    pred = X * w\n",
    "    \n",
    "    err = y - pred\n",
    "    \n",
    "    return w, pred, err    \n",
    "    \n",
    "end"
   ]
  },
  {
   "cell_type": "code",
   "execution_count": null,
   "id": "23f1f0bb",
   "metadata": {},
   "outputs": [],
   "source": [
    "function linear_regression_lasso(X,y,lambda)\n",
    "    \n",
    "    \n",
    "end"
   ]
  },
  {
   "cell_type": "code",
   "execution_count": 52,
   "id": "0a01c4e3",
   "metadata": {},
   "outputs": [
    {
     "data": {
      "text/plain": [
       "linear_regression_test (generic function with 1 method)"
      ]
     },
     "execution_count": 52,
     "metadata": {},
     "output_type": "execute_result"
    }
   ],
   "source": [
    "function linear_regression_test(X,w)\n",
    "    \n",
    "    pred = X * w\n",
    "    \n",
    "    return pred\n",
    "    \n",
    "end"
   ]
  },
  {
   "cell_type": "code",
   "execution_count": 45,
   "id": "5a9bb10a",
   "metadata": {},
   "outputs": [
    {
     "data": {
      "text/plain": [
       "linear_regression_lasso_GD (generic function with 1 method)"
      ]
     },
     "metadata": {},
     "output_type": "display_data"
    }
   ],
   "source": [
    "function linear_regression_lasso_GD(X, y, lambda)\n",
    "    \n",
    "    learning_rate = .025\n",
    "    iterations = 8000\n",
    "    l1_penalty = lambda\n",
    "    n = size(X)[2] # feature number\n",
    "    m = size(X)[1] #sample number\n",
    "    w = zeros(n) # shape of the params (feature #)\n",
    "    b = 0\n",
    "    \n",
    "    for i in 1:iterations        \n",
    "        y_pred = zeros(m)\n",
    "        for k in 1:m\n",
    "            y_pred[k] = dot(X[k,:], w) + b\n",
    "        end\n",
    "        \n",
    "        #calculate gradients\n",
    "        dW = zeros(n) # shape of the params (feature #)\n",
    "        for j in 1:n\n",
    "            if w[j] > 0  \n",
    "                dW[j] = ( -1 * (2 * (dot(X[:,j], y - y_pred) ) ) + l1_penalty) ./ m\n",
    "            else\n",
    "                dW[j] = ( -1 * (2 * (dot(X[:,j], y - y_pred) ) ) - l1_penalty) ./ m\n",
    "            end\n",
    "        end\n",
    "        \n",
    "        db = - 2 * sum(y - y_pred) ./ m\n",
    "        \n",
    "        w = w - learning_rate*dW\n",
    "        b = b - learning_rate*db\n",
    "        \n",
    "    end\n",
    "    \n",
    "    return w, b\n",
    "    \n",
    "end"
   ]
  },
  {
   "cell_type": "code",
   "execution_count": null,
   "id": "dbf36886",
   "metadata": {},
   "outputs": [],
   "source": []
  },
  {
   "cell_type": "markdown",
   "id": "ff64eaf9",
   "metadata": {},
   "source": [
    "## Analysis of algorithms: conditioning, complexities, and flop counts"
   ]
  },
  {
   "cell_type": "code",
   "execution_count": null,
   "id": "ccd077e6",
   "metadata": {},
   "outputs": [],
   "source": [
    "function lasso_condition_num(X, y, lambda) \n",
    "    t1 = transpose(X); #Condition of transpose is the same as that of a matrix.\n",
    "    t2 = t1 * X; \n",
    "    k1 = norm(t1 * X) * norm(inv(t1 * X)); # k(t2) = ||t1 *X|| * ||(t1 *X)^-1||\n",
    "    t3 = inv(t2); #Condition number of inverse of a matrix is the same as that of a  matrix.\n",
    "    t4 = t3 * t1;\n",
    "    k2 = norm(t3 * t1) * norm(inv(t3 * t1)); # k(t4) = ||t3 * t1|| * ||(t3 * t1)^-1||\n",
    "    t5 = t4 * y; \n",
    "    k3 = norm(t4 * y) * norm(inv(t4 * y)); #k(t5) = ||t4 * y|| * ||(t4 * y)^-1||\n",
    "    t6 = abs.(t5) #Condition of absolute is the same as that of a matrix.\n",
    "    t7 = t6 .- lambda;\n",
    "    k4 = norm(t6 .- lambda) * norm(inv(t6 .- lmbda)); #k(t7) = ||t6 .- lambda|| * ||(t6 .- lambda)^-1||\n",
    "    t8 = sign.(t5) .* t7; \n",
    "    k5 = norm(sign.(w) .* t7) * norm(inv(sign.(w) .* t7)); #k(t8) = ||sign.(w) .* t7|| * ||(sign.(w) .* t7)^-1||\n",
    "    t9 = X * t8;\n",
    "    k6 = norm(X * t8) * norm(inv(X * t8)); #k(t9) = ||X * t8|| * ||(X * t8)^-1||\n",
    "    t10 = y - t9; \n",
    "    k7 = norm(y - t9) * norm(inv(y - t9)); #k(t10) = ||y - t9|| * ||(y - t9)||\n",
    "    println(k1, k2, k3, k4, k5, k6, k7);\n",
    "  \n",
    "  end"
   ]
  },
  {
   "cell_type": "code",
   "execution_count": 55,
   "id": "fcb526fb",
   "metadata": {},
   "outputs": [
    {
     "data": {
      "text/plain": [
       "lasso_gd_condition (generic function with 1 method)"
      ]
     },
     "metadata": {},
     "output_type": "display_data"
    }
   ],
   "source": [
    "function lasso_gd_condition(X, y, lambda)\n",
    "    learning_rate = .025\n",
    "    iterations = 8000\n",
    "    l1_penalty = lambda\n",
    "    n = size(X)[2] # feature number\n",
    "    m = size(X)[1] #sample number\n",
    "    w = zeros(n) # shape of the params (feature #)\n",
    "    b = 0\n",
    "    #Above declarations are all well-condtioned since they are assigning values to variables.\n",
    "    cond = zeros(0); #This var will contain largest condition number from all operations\n",
    "\n",
    "    for i in 1:iterations\n",
    "        y_pred = zeros(m); #Well-conditioned since it's assigning zeros to variable\n",
    "        for k in 1:m\n",
    "            eq1 = dot(X[k,:], w);\n",
    "            k1 = (norm(X[k,:]) * norm(w)) / dot(X[k,:], w); #Condition number for dot product is cond f(x) = 1/cos(x,y) = inverse cosine angle between both vectors\n",
    "            push!(cond,k1)\n",
    "\n",
    "            eq2 = eq1 + b;\n",
    "            y_pred[k] = eq2;\n",
    "            k2 = abs(eq1 / (eq2)); # abs(eq1 / (eq1 + b))\n",
    "            push!(cond,k2)\n",
    "        end\n",
    "\n",
    "        #calculate gradients\n",
    "        dW = zeros(n) # shape of the params (feature #)\n",
    "        #Well-condtioned since it's assigning zeros to variable \n",
    "        for j in 1:n\n",
    "            if w[j] > 0\n",
    "                eq3 = y - y_pred; \n",
    "                #conditioning would be determined by the conditioning of of the subtraction of every respective element\n",
    "                k3 = norm(y - y_pred);\n",
    "                push!(cond,k3)\n",
    "\n",
    "                eq4 = dot(X[:,j], eq3);\n",
    "                k4 = (norm(X[:,j]) * norm(eq3)) / dot(X[:,j], eq3);\n",
    "                push!(cond,k4)\n",
    "\n",
    "                eq5 = 2 * eq4; #Condition Number 1 since multiplying by scalar.\n",
    "                k5 = 1;\n",
    "                push!(cond,k5)\n",
    "\n",
    "                eq6 = -1 * eq5;\n",
    "                #Condition Number 1 since multiplying by scalar.\n",
    "                k6 = 1;\n",
    "                push!(cond,k6)\n",
    "\n",
    "                eq7 = eq6 + l1_penalty;\n",
    "                k7 = norm(eq7);\n",
    "                push!(cond,k7)\n",
    "\n",
    "                eq8 = eq7 ./ m;\n",
    "                dW[j] = eq8;\n",
    "                #Condition number is 1 since it is the element division of two variables\n",
    "                k8 = 1;\n",
    "                push!(cond,k8)\n",
    "            else\n",
    "                eq9 = y - y_pred; \n",
    "                #conditioning would be determined by the conditioning of of the subtraction of every respective element\n",
    "                k9 = norm(y - y_pred);\n",
    "                push!(cond,k9)\n",
    "\n",
    "                eq10 = dot(X[:,j], eq9);\n",
    "                k10 = (norm(X[k,:]) * norm(eq9)) / dot(X[:,j], eq9);\n",
    "                push!(cond,k10)\n",
    "\n",
    "                eq11 = 2 * eq10; #Condition Number 1 since multiplying by scalar.\n",
    "                k11 = 1;\n",
    "                push!(cond,k11)\n",
    "\n",
    "                eq12 = -1 * eq11;\n",
    "                #Condition Number 1 since multiplying by scalar.\n",
    "                k12 = 1;\n",
    "                push!(cond,k12)\n",
    "\n",
    "                eq13 = eq12 - l1_penalty;\n",
    "                k13 = norm(eq13);\n",
    "                push!(cond,k13)\n",
    "\n",
    "                eq14 = eq13 ./ m;\n",
    "                dW[j] = eq14;\n",
    "                #Condition number is 1 since it is the element division of two variables\n",
    "                k14 = 1;\n",
    "                push!(cond,k14)\n",
    "            end\n",
    "\n",
    "            eq15 = y - y_pred;\n",
    "            k15 = norm(y - y_pred);\n",
    "            push!(cond,k15)\n",
    "\n",
    "            eq16 = sum(eq15);\n",
    "            k16 = 1;\n",
    "            push!(cond,k16)\n",
    "\n",
    "            eq17 = - 2 * eq16; #Scalar multiplicaiton in well-conditioned\n",
    "            k17 = 1;\n",
    "            push!(cond,k17)\n",
    "\n",
    "            eq18 = eq17 ./ m; # dividing by a scalar m is well-conditioned\n",
    "            db = eq18;\n",
    "            k18 = 1;\n",
    "            push!(cond,k18)\n",
    "\n",
    "            eq19 = learning_rate*dW; #scalar multiplication is well-conditioned\n",
    "            k19 = 1;\n",
    "            push!(cond,k19)\n",
    "\n",
    "            eq20 = w - eq19;\n",
    "            w = eq20;\n",
    "            k20 = norm(w - eq19);\n",
    "            push!(cond,k20)\n",
    "\n",
    "            eq21 = learning_rate*db; #scalar multiplication is well-conditioned\n",
    "            k21 = 1; \n",
    "            push!(cond,k21)\n",
    "\n",
    "            eq22 = b - eq21;\n",
    "            b = eq22;\n",
    "            k22 = norm(b - eq21);\n",
    "            push!(cond,k22)\n",
    "\n",
    "        end\n",
    "        \n",
    "    end\n",
    "    return cond;\n",
    "end\n",
    "\n"
   ]
  },
  {
   "cell_type": "code",
   "execution_count": 56,
   "id": "fe166fb3",
   "metadata": {},
   "outputs": [],
   "source": [
    "lambdas = [.000001] #, .00001, .0001, .001, .01, .05, .1, .5, 1.5, 5, 10, 12, 15, 18, 20];\n",
    "cond = zeros(0)\n",
    "cond\n",
    "b = 0;\n",
    "w = zeros(0);"
   ]
  },
  {
   "cell_type": "code",
   "execution_count": 57,
   "id": "4ad50977",
   "metadata": {},
   "outputs": [],
   "source": [
    "for it in lambdas\n",
    "    #conditioning\n",
    "    cond = lasso_gd_condition(matrix_data_train,matrix_target_train,it)\n",
    "    #Cond = hcat(Cond, cond)\n",
    "    #w, b =linear_regression_lasso_GD(matrix_data_train,matrix_target_train,it)\n",
    "\n",
    "end"
   ]
  },
  {
   "cell_type": "code",
   "execution_count": 58,
   "id": "e0269412",
   "metadata": {},
   "outputs": [
    {
     "data": {
      "text/plain": [
       "1×265088000 adjoint(::Vector{Float64}) with eltype Float64:\n",
       " NaN  NaN  NaN  NaN  NaN  NaN  NaN  NaN  …  1.0  1.0  1.50948  1.0  0.530371"
      ]
     },
     "metadata": {},
     "output_type": "display_data"
    }
   ],
   "source": [
    "# Display the conditioning of each iteration of the lasso regression\n",
    "cond'\n",
    "#w\n",
    "#b"
   ]
  },
  {
   "cell_type": "markdown",
   "id": "71304cb4",
   "metadata": {},
   "source": [
    "## Perform regression tasks on data"
   ]
  },
  {
   "cell_type": "code",
   "execution_count": null,
   "id": "d6586a84",
   "metadata": {},
   "outputs": [],
   "source": []
  },
  {
   "cell_type": "code",
   "execution_count": null,
   "id": "1a6ad3c9",
   "metadata": {},
   "outputs": [],
   "source": []
  },
  {
   "cell_type": "code",
   "execution_count": null,
   "id": "0b86589a",
   "metadata": {},
   "outputs": [],
   "source": []
  },
  {
   "cell_type": "markdown",
   "id": "e81a3836",
   "metadata": {},
   "source": [
    "## Evaluation of algorithm performance"
   ]
  },
  {
   "cell_type": "code",
   "execution_count": null,
   "id": "67a323bc",
   "metadata": {},
   "outputs": [],
   "source": []
  },
  {
   "cell_type": "code",
   "execution_count": null,
   "id": "3da3ab80",
   "metadata": {},
   "outputs": [],
   "source": []
  },
  {
   "cell_type": "code",
   "execution_count": null,
   "id": "ad7e6389",
   "metadata": {},
   "outputs": [],
   "source": []
  },
  {
   "cell_type": "markdown",
   "id": "70126167",
   "metadata": {},
   "source": [
    "## Conclusion"
   ]
  },
  {
   "cell_type": "code",
   "execution_count": null,
   "id": "80172b1b",
   "metadata": {},
   "outputs": [],
   "source": []
  },
  {
   "cell_type": "code",
   "execution_count": null,
   "id": "4dcb8561",
   "metadata": {},
   "outputs": [],
   "source": []
  },
  {
   "cell_type": "code",
   "execution_count": null,
   "id": "e78531dc",
   "metadata": {},
   "outputs": [],
   "source": []
  },
  {
   "cell_type": "code",
   "execution_count": null,
   "id": "f600bcc4",
   "metadata": {},
   "outputs": [],
   "source": []
  }
 ],
 "metadata": {
  "kernelspec": {
   "display_name": "Julia 1.7.2",
   "language": "julia",
   "name": "julia-1.7"
  },
  "language_info": {
   "file_extension": ".jl",
   "mimetype": "application/julia",
   "name": "julia",
   "version": "1.7.2"
  }
 },
 "nbformat": 4,
 "nbformat_minor": 5
}
