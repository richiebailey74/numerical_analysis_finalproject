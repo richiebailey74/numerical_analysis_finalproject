{
 "cells": [
  {
   "cell_type": "markdown",
   "id": "b606520d",
   "metadata": {},
   "source": [
    "# Numerical Analysis Final Project: Lasso vs Ridge Regression"
   ]
  },
  {
   "cell_type": "code",
   "execution_count": 50,
   "id": "9a3a01de",
   "metadata": {},
   "outputs": [],
   "source": [
    "using Pkg\n",
    "using Pandas\n",
    "using LinearAlgebra"
   ]
  },
  {
   "cell_type": "markdown",
   "id": "21e3d701",
   "metadata": {},
   "source": [
    "## Import data"
   ]
  },
  {
   "cell_type": "code",
   "execution_count": 51,
   "id": "a2de6fb6",
   "metadata": {},
   "outputs": [],
   "source": [
    "df = read_csv(\"median_housing_cost_data.tsv\", sep=\"\\t\");"
   ]
  },
  {
   "cell_type": "code",
   "execution_count": 35,
   "id": "82afa2c5",
   "metadata": {},
   "outputs": [
    {
     "data": {
      "text/html": [
       "Unnamed: 0    20639.000000\n",
       "MedInc            2.388600\n",
       "HouseAge         16.000000\n",
       "AveRooms          5.254717\n",
       "AveBedrms         1.162264\n",
       "Population     1387.000000\n",
       "AveOccup          2.616981\n",
       "Latitude         39.370000\n",
       "Longitude      -121.240000\n",
       "Name: 20639, dtype: float64\n"
      ],
      "text/plain": [
       "Unnamed: 0    20639.000000\n",
       "MedInc            2.388600\n",
       "HouseAge         16.000000\n",
       "AveRooms          5.254717\n",
       "AveBedrms         1.162264\n",
       "Population     1387.000000\n",
       "AveOccup          2.616981\n",
       "Latitude         39.370000\n",
       "Longitude      -121.240000\n",
       "Name: 20639, dtype: float64\n"
      ]
     },
     "execution_count": 35,
     "metadata": {},
     "output_type": "execute_result"
    }
   ],
   "source": [
    "x = iloc(df)[0]"
   ]
  },
  {
   "cell_type": "code",
   "execution_count": null,
   "id": "63f85459",
   "metadata": {},
   "outputs": [],
   "source": []
  },
  {
   "cell_type": "markdown",
   "id": "75200bd4",
   "metadata": {},
   "source": [
    "## Motivating factor"
   ]
  },
  {
   "cell_type": "code",
   "execution_count": null,
   "id": "cdef5f46",
   "metadata": {},
   "outputs": [],
   "source": [
    "# talk about median household costs and how maximizing posterior probabilities to estimate cost is goal"
   ]
  },
  {
   "cell_type": "code",
   "execution_count": null,
   "id": "69eb3bcb",
   "metadata": {},
   "outputs": [],
   "source": []
  },
  {
   "cell_type": "code",
   "execution_count": null,
   "id": "0a6742e3",
   "metadata": {},
   "outputs": [],
   "source": []
  },
  {
   "cell_type": "markdown",
   "id": "addc8dd1",
   "metadata": {},
   "source": [
    "## Regression tasks derived from maximizing posterior probabilities"
   ]
  },
  {
   "cell_type": "code",
   "execution_count": null,
   "id": "31b41861",
   "metadata": {},
   "outputs": [],
   "source": []
  },
  {
   "cell_type": "code",
   "execution_count": null,
   "id": "37843f87",
   "metadata": {},
   "outputs": [],
   "source": []
  },
  {
   "cell_type": "code",
   "execution_count": null,
   "id": "f501813e",
   "metadata": {},
   "outputs": [],
   "source": []
  },
  {
   "cell_type": "markdown",
   "id": "80429285",
   "metadata": {},
   "source": [
    "## Solutions to regression tasks"
   ]
  },
  {
   "cell_type": "code",
   "execution_count": null,
   "id": "768dcb40",
   "metadata": {},
   "outputs": [],
   "source": []
  },
  {
   "cell_type": "code",
   "execution_count": null,
   "id": "ec865fdb",
   "metadata": {},
   "outputs": [],
   "source": []
  },
  {
   "cell_type": "code",
   "execution_count": null,
   "id": "db72868a",
   "metadata": {},
   "outputs": [],
   "source": []
  },
  {
   "cell_type": "code",
   "execution_count": null,
   "id": "20571f23",
   "metadata": {},
   "outputs": [],
   "source": []
  },
  {
   "cell_type": "markdown",
   "id": "4a2bf9dc",
   "metadata": {},
   "source": [
    "## Code solutions for regression tasks"
   ]
  },
  {
   "cell_type": "code",
   "execution_count": 49,
   "id": "e64bab2d",
   "metadata": {},
   "outputs": [
    {
     "data": {
      "text/plain": [
       "linear_regression_ridge (generic function with 1 method)"
      ]
     },
     "execution_count": 49,
     "metadata": {},
     "output_type": "execute_result"
    }
   ],
   "source": [
    "function linear_regression_ridge(X,y,lambda)\n",
    "    \n",
    "    s = size(X)[1]\n",
    "    Im =1* Matrix(I, s, s)\n",
    "    \n",
    "    w = inv(transpose(X)*X + lambda*Im) * transpose(X) * y\n",
    "    \n",
    "    pred = X * w\n",
    "    \n",
    "    err = y - pred\n",
    "    \n",
    "    return w, pred, err    \n",
    "    \n",
    "end"
   ]
  },
  {
   "cell_type": "code",
   "execution_count": null,
   "id": "23f1f0bb",
   "metadata": {},
   "outputs": [],
   "source": [
    "function linear_regression_lasso(X,y,lambda)\n",
    "    \n",
    "    \n",
    "end"
   ]
  },
  {
   "cell_type": "code",
   "execution_count": 52,
   "id": "0a01c4e3",
   "metadata": {},
   "outputs": [
    {
     "data": {
      "text/plain": [
       "linear_regression_test (generic function with 1 method)"
      ]
     },
     "execution_count": 52,
     "metadata": {},
     "output_type": "execute_result"
    }
   ],
   "source": [
    "function linear_regression_test(X,w)\n",
    "    \n",
    "    pred = X * w\n",
    "    \n",
    "    return pred\n",
    "    \n",
    "end"
   ]
  },
  {
   "cell_type": "code",
   "execution_count": null,
   "id": "5a9bb10a",
   "metadata": {},
   "outputs": [],
   "source": []
  },
  {
   "cell_type": "code",
   "execution_count": null,
   "id": "dbf36886",
   "metadata": {},
   "outputs": [],
   "source": []
  },
  {
   "cell_type": "markdown",
   "id": "ff64eaf9",
   "metadata": {},
   "source": [
    "## Analysis of algorithms: conditioning, complexities, and flop counts"
   ]
  },
  {
   "cell_type": "code",
   "execution_count": null,
   "id": "ccd077e6",
   "metadata": {},
   "outputs": [],
   "source": [
    "function lasso_condition_num(X, y, lambda) \n",
    "    t1 = transpose(X); #Condition of transpose is the same as that of a matrix.\n",
    "    t2 = t1 * X; \n",
    "    k1 = norm(t1 * X) * norm(inv(t1 * X)); # k(t2) = ||t1 *X|| * ||(t1 *X)^-1||\n",
    "    t3 = inv(t2); #Condition number of inverse of a matrix is the same as that of a  matrix.\n",
    "    t4 = t3 * t1;\n",
    "    k2 = norm(t3 * t1) * norm(inv(t3 * t1)); # k(t4) = ||t3 * t1|| * ||(t3 * t1)^-1||\n",
    "    t5 = t4 * y; \n",
    "    k3 = norm(t4 * y) * norm(inv(t4 * y)); #k(t5) = ||t4 * y|| * ||(t4 * y)^-1||\n",
    "    t6 = abs.(t5) #Condition of absolute is the same as that of a matrix.\n",
    "    t7 = t6 .- lambda;\n",
    "    k4 = norm(t6 .- lambda) * norm(inv(t6 .- lmbda)); #k(t7) = ||t6 .- lambda|| * ||(t6 .- lambda)^-1||\n",
    "    t8 = sign.(t5) .* t7; \n",
    "    k5 = norm(sign.(w) .* t7) * norm(inv(sign.(w) .* t7)); #k(t8) = ||sign.(w) .* t7|| * ||(sign.(w) .* t7)^-1||\n",
    "    t9 = X * t8;\n",
    "    k6 = norm(X * t8) * norm(inv(X * t8)); #k(t9) = ||X * t8|| * ||(X * t8)^-1||\n",
    "    t10 = y - t9; \n",
    "    k7 = norm(y - t9) * norm(inv(y - t9)); #k(t10) = ||y - t9|| * ||(y - t9)||\n",
    "    println(k1, k2, k3, k4, k5, k6, k7);\n",
    "  \n",
    "  end"
   ]
  },
  {
   "cell_type": "code",
   "execution_count": null,
   "id": "fcb526fb",
   "metadata": {},
   "outputs": [],
   "source": [
    "function lasso_condition_fixed(X, y, lambda) {\n",
    "    learning_rate = .025\n",
    "    iterations = 8000\n",
    "    l1_penalty = lambda\n",
    "    n = size(X)[2] # feature number\n",
    "    m = size(X)[1] #sample number\n",
    "    w = zeros(n) # shape of the params (feature #)\n",
    "    b = 0\n",
    "    #Above declarations are all well-condtioned since they are assigning values to variables.\n",
    "    k = Vector{Float64}(); #This var will contain largest condition number from all operations\n",
    "\n",
    "    for i in 1:iterations\n",
    "        y_pred = zeros(m); #Well-conditioned since it's assigning zeros to variable\n",
    "        for k in 1:m\n",
    "            eq1 = dot(X[k,:], w);\n",
    "            k1 = (norm(X[k,:]) * norm(w)) / (X[k,:] * w); #Condition number for dot product is cond f(x) = 1/cos(x,y) = inverse cosine angle between both vectors\n",
    "            push!(k,k1)\n",
    "\n",
    "            eq2 = eq1 + b;\n",
    "            y_pred[k] = eq2;\n",
    "            k2 = abs(eq1 / (eq2)); # abs(eq1 / (eq1 + b))\n",
    "            push!(k,k2)\n",
    "        end\n",
    "\n",
    "        #calculate gradients\n",
    "        dW = zeros(n) # shape of the params (feature #)\n",
    "        #Well-condtioned since it's assigning zeros to variable \n",
    "        for j in 1:n\n",
    "            if w[j] > 0\n",
    "                eq3 = y - y_pred; \n",
    "                #conditioning would be determined by the conditioning of of the subtraction of every respective element\n",
    "                k3 = norm(y - y_pred) * norm(inv(y-y_pred));\n",
    "                push!(k,k3)\n",
    "\n",
    "                eq4 = dot(X[:,j], eq3);\n",
    "                k4 = (norm(X[k,:]) * norm(w)) / (X[k,:] * w);\n",
    "                push!(k,k4)\n",
    "\n",
    "                eq5 = 2 * eq4; #Condition Number 1 since multiplying by scalar.\n",
    "                k5 = 1;\n",
    "                push!(k,k5)\n",
    "\n",
    "                eq6 = -1 * eq5;\n",
    "                #Condition Number 1 since multiplying by scalar.\n",
    "                k6 = 1;\n",
    "                push!(k,k6)\n",
    "\n",
    "                eq7 = eq6 + l1_penalty;\n",
    "                k7 = norm(eq6 + l1_penalty) * norm(inv(eq6 + l1_penalty));\n",
    "                push!(k,k7)\n",
    "\n",
    "                eq8 = eq7 ./ m;\n",
    "                dW[j] = eq8;\n",
    "                #Condition number is 1 since it is the element division of two variables\n",
    "                k8 = 1;\n",
    "                push!(k,k8)\n",
    "            else\n",
    "                eq9 = y - y_pred; \n",
    "                #conditioning would be determined by the conditioning of of the subtraction of every respective element\n",
    "                k9 = norm(y - y_pred) * norm(inv(y-y_pred));\n",
    "                push!(k,k9)\n",
    "\n",
    "                eq10 = dot(X[:,j], eq3);\n",
    "                k10 = (norm(X[k,:]) * norm(w)) / (X[k,:] * w);\n",
    "                push!(k,k10)\n",
    "\n",
    "                eq11 = 2 * eq4; #Condition Number 1 since multiplying by scalar.\n",
    "                k11 = 1;\n",
    "                push!(k,k11)\n",
    "\n",
    "                eq12 = -1 * eq5;\n",
    "                #Condition Number 1 since multiplying by scalar.\n",
    "                k12 = 1;\n",
    "                push!(k,k12)\n",
    "\n",
    "                eq13 = eq6 - l1_penalty;\n",
    "                k13 = norm(eq6 - l1_penalty) * norm(inv(eq6 - l1_penalty));\n",
    "                push!(k,k13)\n",
    "\n",
    "                eq14 = eq7 ./ m;\n",
    "                dW[j] = eq14;\n",
    "                #Condition number is 1 since it is the element division of two variables\n",
    "                k14 = 1;\n",
    "                push!(k,k14)\n",
    "            end\n",
    "\n",
    "            eq15 = y - y_pred;\n",
    "            k15 = norm(y - y_pred) * norm(inv(y-y_pred));\n",
    "            push!(k,k15)\n",
    "\n",
    "            eq16 = sum(eq15);\n",
    "            k16 = 1;\n",
    "            push!(k,k16)\n",
    "\n",
    "            eq17 = - 2 * eq16; #Scalar multiplicaiton in well-conditioned\n",
    "            k17 = 1;\n",
    "            push!(k,k17)\n",
    "\n",
    "            eq18 = eq17 ./ m; # dividing by a scalar m is well-conditioned\n",
    "            db = eq18;\n",
    "            k18 = 1;\n",
    "            push!(k,k18)\n",
    "\n",
    "            eq19 = learning_rate*dW; #scalar multiplication is well-conditioned\n",
    "            k19 = 1;\n",
    "            push!(k,k19)\n",
    "\n",
    "            eq20 = w - eq19;\n",
    "            w = eq20;\n",
    "            k20 = norm(w - eq19) * norm(inv(w - eq19));\n",
    "            push!(k,k20)\n",
    "\n",
    "            eq21 = learning_rate*db; #scalar multiplication is well-conditioned\n",
    "            k21 = 1; \n",
    "            push!(k,k21)\n",
    "\n",
    "            eq22 = b - eq21;\n",
    "            b = eq22;\n",
    "            k22 = norm(b - eq21) * norm(inv(b - eq21));\n",
    "            push!(k,k22)\n",
    "\n",
    "        end\n",
    "        return k;\n",
    "    end\n",
    "\n",
    "}"
   ]
  },
  {
   "cell_type": "code",
   "execution_count": null,
   "id": "4ad50977",
   "metadata": {},
   "outputs": [],
   "source": []
  },
  {
   "cell_type": "markdown",
   "id": "71304cb4",
   "metadata": {},
   "source": [
    "## Perform regression tasks on data"
   ]
  },
  {
   "cell_type": "code",
   "execution_count": null,
   "id": "d6586a84",
   "metadata": {},
   "outputs": [],
   "source": []
  },
  {
   "cell_type": "code",
   "execution_count": null,
   "id": "1a6ad3c9",
   "metadata": {},
   "outputs": [],
   "source": []
  },
  {
   "cell_type": "code",
   "execution_count": null,
   "id": "0b86589a",
   "metadata": {},
   "outputs": [],
   "source": []
  },
  {
   "cell_type": "markdown",
   "id": "e81a3836",
   "metadata": {},
   "source": [
    "## Evaluation of algorithm performance"
   ]
  },
  {
   "cell_type": "code",
   "execution_count": null,
   "id": "67a323bc",
   "metadata": {},
   "outputs": [],
   "source": []
  },
  {
   "cell_type": "code",
   "execution_count": null,
   "id": "3da3ab80",
   "metadata": {},
   "outputs": [],
   "source": []
  },
  {
   "cell_type": "code",
   "execution_count": null,
   "id": "ad7e6389",
   "metadata": {},
   "outputs": [],
   "source": []
  },
  {
   "cell_type": "markdown",
   "id": "70126167",
   "metadata": {},
   "source": [
    "## Conclusion"
   ]
  },
  {
   "cell_type": "code",
   "execution_count": null,
   "id": "80172b1b",
   "metadata": {},
   "outputs": [],
   "source": []
  },
  {
   "cell_type": "code",
   "execution_count": null,
   "id": "4dcb8561",
   "metadata": {},
   "outputs": [],
   "source": []
  },
  {
   "cell_type": "code",
   "execution_count": null,
   "id": "e78531dc",
   "metadata": {},
   "outputs": [],
   "source": []
  },
  {
   "cell_type": "code",
   "execution_count": null,
   "id": "f600bcc4",
   "metadata": {},
   "outputs": [],
   "source": []
  }
 ],
 "metadata": {
  "kernelspec": {
   "display_name": "Julia 1.7.2",
   "language": "julia",
   "name": "julia-1.7"
  },
  "language_info": {
   "file_extension": ".jl",
   "mimetype": "application/julia",
   "name": "julia",
   "version": "1.7.2"
  }
 },
 "nbformat": 4,
 "nbformat_minor": 5
}
