{
 "cells": [
  {
   "cell_type": "markdown",
   "id": "b606520d",
   "metadata": {},
   "source": [
    "# Lasso vs Ridge Regression:  Numerical Analysis Final Project"
   ]
  },
  {
   "cell_type": "code",
   "execution_count": 33,
   "id": "9a3a01de",
   "metadata": {},
   "outputs": [],
   "source": [
    "using Pkg\n",
    "using LinearAlgebra\n",
    "using DataFrames\n",
    "using CSV\n",
    "using Statistics"
   ]
  },
  {
   "cell_type": "markdown",
   "id": "21e3d701",
   "metadata": {},
   "source": [
    "## Import data"
   ]
  },
  {
   "cell_type": "code",
   "execution_count": 34,
   "id": "deb5fa4e",
   "metadata": {},
   "outputs": [],
   "source": [
    "matrix_data_temp = CSV.File(\"median_housing_cost_data.tsv\") |> Tables.matrix\n",
    "matrix_data = matrix_data_temp[:,2:9];"
   ]
  },
  {
   "cell_type": "code",
   "execution_count": 35,
   "id": "221afc32",
   "metadata": {},
   "outputs": [],
   "source": [
    "matrix_target_temp = CSV.File(\"housing_cost_targets.tsv\") |> Tables.matrix\n",
    "matrix_target = matrix_target_temp[:,2];"
   ]
  },
  {
   "cell_type": "code",
   "execution_count": 36,
   "id": "9f380253",
   "metadata": {},
   "outputs": [],
   "source": [
    "# train test split (test proportion of 20%) - test has 4128 samples, train has 16512 samples\n",
    "\n",
    "matrix_data_train = matrix_data[1:16512, :];\n",
    "matrix_data_test = matrix_data[16513:20640, :];\n",
    "\n",
    "matrix_target_train = matrix_target[1:16512, :];\n",
    "matrix_target_test = matrix_target[16513:20640, :];"
   ]
  },
  {
   "cell_type": "code",
   "execution_count": 37,
   "id": "67565c69",
   "metadata": {},
   "outputs": [],
   "source": [
    "# normalize data (min max normalize)\n",
    "#comment this out and run cell above if we wish to do it without normalizing\n",
    "\n",
    "for i in 1:size(matrix_data_train)[2]\n",
    "    \n",
    "    matrix_data_train[:,i] = (matrix_data_train[:,i] .- findmin(matrix_data_train[:,i])[1]) ./ (findmax(matrix_data_train[:,i])[1] - findmin(matrix_data_train[:,i])[1]);\n",
    "    matrix_data_test[:,i] = (matrix_data_test[:,i] .- findmin(matrix_data_test[:,i])[1]) ./ (findmax(matrix_data_test[:,i])[1] - findmin(matrix_data_test[:,i])[1]);\n",
    "\n",
    "end\n",
    "\n",
    "matrix_target_train = (matrix_target_train .- findmin(matrix_target_train)[1]) ./ (findmax(matrix_target_train)[1] - findmin(matrix_target_train)[1]);\n",
    "matrix_target_test = (matrix_target_test .- findmin(matrix_target_test)[1]) ./ (findmax(matrix_target_test)[1] - findmin(matrix_target_test)[1]);\n"
   ]
  },
  {
   "cell_type": "code",
   "execution_count": null,
   "id": "4ac48a84",
   "metadata": {},
   "outputs": [],
   "source": []
  },
  {
   "cell_type": "markdown",
   "id": "75200bd4",
   "metadata": {},
   "source": [
    "## Motivating factor"
   ]
  },
  {
   "cell_type": "markdown",
   "id": "d1f1061e",
   "metadata": {},
   "source": [
    "Our motivating factor for our project is to address the lack of accuracy for real estate valuation, and to modernize the real estate sector. Due to the high fees of appraisers and the inconsistent valuations of homes, we would like to streamline the process of determining house value and provide a base asking price for sellers to feel comfortable valuating their homes.\n",
    "\n",
    "In our project, we implemented two linear regression methodologies (Ridge Regression and Lasso Regression) to create different ways of calculating the price of a home given certain characteristics. These two regressions can be used as machine learning algorithms to provide a great estimate on the cost of a home. Our goal for our algorithms is to determine which is better suited for our data. We will consider our models' accuracy, conditioning, algorithmic complexities, and number of floating point operations."
   ]
  },
  {
   "cell_type": "code",
   "execution_count": null,
   "id": "0a6742e3",
   "metadata": {},
   "outputs": [],
   "source": []
  },
  {
   "cell_type": "markdown",
   "id": "f8397178",
   "metadata": {},
   "source": [
    "## Technical Goals"
   ]
  },
  {
   "cell_type": "markdown",
   "id": "a3eb5543",
   "metadata": {},
   "source": [
    "Our ultimate goal from our machine learning models is to \"maximize posterior probabilities\" of a set of parameters given a sample in order to produce the most likely prediction of the cost of a house in the real world. A \"posterior probability\" is a calculation of the probability of occurrance in relation to previous observations.\n",
    "\n",
    "We would like to find the arguments 𝑤 (linear regression parameters) which maximize the posterior probability of our outcomes. This formulation comes from a Bayesian approach called Maximum A Posteriori (MAP) that multiplies the probability of a data likelihood by its prior probability to get the posterior we are attempting to maximize.\n",
    "\n",
    "We have derived the MAP approaches into linear regression tasks with a closed form solution and a numerical approximation. The distributions of the data likelihoods and prior probabilities dictate the type of regression we will use. From our solutions, we show that data likelihood and prior probabilities both following Gaussian distributions result in ridge regression. We also show that data likelihood following a Gaussian distribution and prior probabilities following a Poisson distribution result in lasso regression."
   ]
  },
  {
   "cell_type": "code",
   "execution_count": null,
   "id": "f00cfeea",
   "metadata": {},
   "outputs": [],
   "source": []
  },
  {
   "cell_type": "markdown",
   "id": "e769f9bf",
   "metadata": {},
   "source": [
    "## Our Data"
   ]
  },
  {
   "cell_type": "markdown",
   "id": "1a8cf978",
   "metadata": {},
   "source": [
    "##### Note: Our dataset is based off of US Census Data and is a dataset which is built into Python's popular SKLearn Library.\n",
    "\n",
    "https://scikit-learn.org/stable/modules/generated/sklearn.datasets.fetch_california_housing.html\n",
    "\n",
    "##### Samples: 20,640\n",
    "##### Dimensionality: 8\n",
    "#### Features: \n",
    "- Median Income\n",
    "- House Age\n",
    "- Number of Rooms / House\n",
    "- Block Group Population\n",
    "- Number of Bedrooms\n",
    "- Occupancy\n",
    "- Latitude\n",
    "- Longitude\n",
    "- Median House Price (Target)"
   ]
  },
  {
   "cell_type": "code",
   "execution_count": null,
   "id": "878b2eb4",
   "metadata": {},
   "outputs": [],
   "source": []
  },
  {
   "cell_type": "markdown",
   "id": "addc8dd1",
   "metadata": {},
   "source": [
    "## Regression tasks derived from maximizing posterior probabilities"
   ]
  },
  {
   "cell_type": "markdown",
   "id": "9f5fabd1",
   "metadata": {},
   "source": [
    "Here we will derive from the Bayesian approach of maximizing w on a posterior probability the corresponding regression task:"
   ]
  },
  {
   "cell_type": "markdown",
   "id": "785e17c8",
   "metadata": {},
   "source": [
    "For We derive the ridge regression task from the following.\n",
    "We have an observed data likelihood: $P(t|w) \\approx N(t|y, 1)$  \n",
    "and a prior distribution: $P(w|\\lambda) \\approx N(w|0,\\frac{1}{\\lambda})$"
   ]
  },
  {
   "cell_type": "markdown",
   "id": "c8facc16",
   "metadata": {},
   "source": [
    "We wish to maximize the posterior probability: $P(w|t) = P(t|w) P(w|\\lambda)$"
   ]
  },
  {
   "cell_type": "markdown",
   "id": "39d5dcf7",
   "metadata": {},
   "source": [
    "$argmax_{w}(P(w|t)) = argmax_{w}(P(t|w) P(w|\\lambda))$"
   ]
  },
  {
   "cell_type": "markdown",
   "id": "34019e59",
   "metadata": {},
   "source": [
    "$= argmax_{w}(\\prod\\limits_{i=1}^{N}P(t_i|w)\\prod\\limits_{j=0}^{M}P(w_j|0,\\lambda))$"
   ]
  },
  {
   "cell_type": "markdown",
   "id": "7a50e751",
   "metadata": {},
   "source": [
    "$= argmax_{w}(\\prod\\limits_{i=1}^{N}N(t|y_i,1)\\prod\\limits_{j=0}^{M}N(w_j|0,\\frac{1}{\\lambda}))$"
   ]
  },
  {
   "cell_type": "markdown",
   "id": "3311ba83",
   "metadata": {},
   "source": [
    "$\\propto argmax_{w}(\\sum\\limits_{i=1}^{N}ln(N(t_i|y_i,1)) + \\sum\\limits_{j=0}^{M}ln(N(w_j|0,\\lambda)))$"
   ]
  },
  {
   "cell_type": "markdown",
   "id": "155e037b",
   "metadata": {},
   "source": [
    "$= argmax_{w}(\\sum\\limits_{i=1}^{N}ln(e^{\\frac{-1}{2}(t_i - y_i)^{T}1(t_i - y_i)}) + \\sum\\limits_{j=0}^{M}ln(e^{\\frac{-1}{2}(w - 0)^{T}\\lambda(w - 0)}))$"
   ]
  },
  {
   "cell_type": "markdown",
   "id": "84c071c1",
   "metadata": {},
   "source": [
    "$= argmin_{w}(-(\\frac{-1}{2}\\sum\\limits_{i=1}^{N}(t_i - y_i)^2 - \\frac{\\lambda}{2} \\sum\\limits_{j=0}^{M} w_j^2))$"
   ]
  },
  {
   "cell_type": "markdown",
   "id": "c11b8dec",
   "metadata": {},
   "source": [
    "$= argmin_{w}(\\frac{1}{2}\\sum\\limits_{i=1}^{N}(t_i - y_i)^2 + \\frac{\\lambda}{2} \\sum\\limits_{j=0}^{M} w_j^2)$"
   ]
  },
  {
   "cell_type": "markdown",
   "id": "ab070a4c",
   "metadata": {},
   "source": [
    "As we can see, we have successfully derived the ridge (L2) regression formulation"
   ]
  },
  {
   "cell_type": "code",
   "execution_count": null,
   "id": "f501813e",
   "metadata": {},
   "outputs": [],
   "source": []
  },
  {
   "cell_type": "markdown",
   "id": "c1668edf",
   "metadata": {},
   "source": [
    "We derive the lasso regression task from the following.\n",
    "We have an observed data likelihood: $P(t|w) \\approx N(t|y, 1)$  \n",
    "and a prior distribution: $P(w|\\lambda) \\approx Poisson(w|\\frac{1}{\\lambda})$"
   ]
  },
  {
   "cell_type": "markdown",
   "id": "ca0dfde8",
   "metadata": {},
   "source": [
    "We wish to maximize the posterior probability: $P(w|t) = P(t|w) P(w|\\lambda)$"
   ]
  },
  {
   "cell_type": "markdown",
   "id": "95460b51",
   "metadata": {},
   "source": [
    "$argmax_w(P(w|t)) = argmax_w(P(t|w) P(w|\\lambda))$"
   ]
  },
  {
   "cell_type": "markdown",
   "id": "74776d19",
   "metadata": {},
   "source": [
    "$=argmax_w(\\prod\\limits_{i=1}^{N}N(t_i|y_i,1) \\prod\\limits_{j=0}^{M}Poisson(w|\\frac{1}{\\lambda}))$"
   ]
  },
  {
   "cell_type": "markdown",
   "id": "3d750fd6",
   "metadata": {},
   "source": [
    "$\\propto argmax_w(\\sum\\limits_{i=1}^{N}ln(N(t_i|y_i, 1)) + \\sum\\limits_{j=0}^{M}ln(Poisson(\\frac{1}{\\lambda})))$"
   ]
  },
  {
   "cell_type": "markdown",
   "id": "bb4c02ff",
   "metadata": {},
   "source": [
    "$\\propto argmax_w(\\sum\\limits_{i=1}^{N}ln(e^{\\frac{-1}{2}(t_i-y_i)^T1(t_i-y_i)}) + \\sum\\limits_{j=0}^{M}ln(e^{-w_j\\lambda}))$"
   ]
  },
  {
   "cell_type": "markdown",
   "id": "e6983237",
   "metadata": {},
   "source": [
    "$=argmin_w(-(\\frac{-1}{2}\\sum\\limits_{i=1}^{N}(t_i-y_i)^2 - \\lambda\\sum\\limits_{j=0}^{M}|w_j| ))$"
   ]
  },
  {
   "cell_type": "markdown",
   "id": "34d0ce31",
   "metadata": {},
   "source": [
    "$=argmin_w(\\frac{1}{2}\\sum\\limits_{i=1}^{N}(t_i-y_i)^2 + \\lambda\\sum\\limits_{j=0}^{M}|w_j| )$"
   ]
  },
  {
   "cell_type": "markdown",
   "id": "b2e68356",
   "metadata": {},
   "source": [
    "As we can see, we have successfully derived the lasso (L1) regression formulation"
   ]
  },
  {
   "cell_type": "code",
   "execution_count": null,
   "id": "d11faaab",
   "metadata": {},
   "outputs": [],
   "source": []
  },
  {
   "cell_type": "markdown",
   "id": "80429285",
   "metadata": {},
   "source": [
    "## Solutions to regression tasks"
   ]
  },
  {
   "cell_type": "markdown",
   "id": "a23b35da",
   "metadata": {},
   "source": [
    "Now that we have derived the formulation for ridge regression, let's derive a solution."
   ]
  },
  {
   "cell_type": "markdown",
   "id": "dab47d6d",
   "metadata": {},
   "source": [
    "$argmin_w(\\frac{1}{2}\\sum\\limits_{i=1}^{N}(t_i-y_i)^2 + \\lambda\\sum\\limits_{j=0}^{M}w_j^2 )$ , inherently implies we should differentiate argument to be minimized with respect to the argument we are trying to find."
   ]
  },
  {
   "cell_type": "markdown",
   "id": "b65c59b6",
   "metadata": {},
   "source": [
    "If we define: $J(w) = \\frac{1}{2}\\sum\\limits_{i=1}^{N}(t_i-y_i)^2 + \\frac{\\lambda}{2}\\sum\\limits_{j=0}^{M}w_j^2$ , then:"
   ]
  },
  {
   "cell_type": "markdown",
   "id": "6996fa74",
   "metadata": {},
   "source": [
    "$J(w) = \\frac{1}{2}(t-Xw)^T(t-Xw) + \\frac{\\lambda}{2}w^Tw$"
   ]
  },
  {
   "cell_type": "markdown",
   "id": "bf125fe2",
   "metadata": {},
   "source": [
    "$ = \\frac{1}{2} (t^Tt - t^TXw - w^TX^Tt + w^TX^TXw) + \\frac{\\lambda}{2}w^Tw$"
   ]
  },
  {
   "cell_type": "markdown",
   "id": "74deee07",
   "metadata": {},
   "source": [
    "We next differentiate $J(w)$ with respect to $w$ : "
   ]
  },
  {
   "cell_type": "markdown",
   "id": "eb706101",
   "metadata": {},
   "source": [
    "$\\frac{\\partial J(w)}{\\partial w} = \\frac{1}{2}(0 - 2t^TX + 2w^TX^TX) + \\frac{\\lambda}{2}2w^TI$"
   ]
  },
  {
   "cell_type": "markdown",
   "id": "d3e6ff45",
   "metadata": {},
   "source": [
    "$ = -t^TX + w^TX^TX + \\lambda w^TI$"
   ]
  },
  {
   "cell_type": "markdown",
   "id": "d298c0f1",
   "metadata": {},
   "source": [
    "Since, $\\frac{\\partial J(w)}{\\partial w} = 0$, we can thus rearrange terms to get:"
   ]
  },
  {
   "cell_type": "markdown",
   "id": "7ec876a2",
   "metadata": {},
   "source": [
    "$t^TX = w^TX^TX + \\lambda w^TI$"
   ]
  },
  {
   "cell_type": "markdown",
   "id": "deabcbaa",
   "metadata": {},
   "source": [
    "$(t^TX)^T = (w^TX^TX)^T + (\\lambda w^TI)^T$"
   ]
  },
  {
   "cell_type": "markdown",
   "id": "9375cdaa",
   "metadata": {},
   "source": [
    "$X^Tt = X^TXw + \\lambda wI$"
   ]
  },
  {
   "cell_type": "markdown",
   "id": "ef3b9574",
   "metadata": {},
   "source": [
    "$X^Tt = w(X^TX + \\lambda I)$"
   ]
  },
  {
   "cell_type": "markdown",
   "id": "1ba9be62",
   "metadata": {},
   "source": [
    "so we thus get as our final solution:  \n",
    "$w = (X^TX + \\lambda I)^{-1}X^Tt$"
   ]
  },
  {
   "cell_type": "code",
   "execution_count": null,
   "id": "ef1dd3a1",
   "metadata": {},
   "outputs": [],
   "source": []
  },
  {
   "cell_type": "markdown",
   "id": "9c0acb3b",
   "metadata": {},
   "source": [
    "Now that we have a derived a formulation for lasso regression, let's find a solution. We will quickly realize in attempting to derive it, that there is no simple closed form solution to lasso regression. There exists a complex closed form solution that uses proximity functions, but this is not easy to implement in code. Thus, we will solve a solution to lasso regression numerically with a numerical method, more specifically, gradient descent."
   ]
  },
  {
   "cell_type": "markdown",
   "id": "08b0c4c6",
   "metadata": {},
   "source": [
    "If we define: $J(w) = \\frac{1}{2}\\sum\\limits_{i=1}^{N}(t_i-y_i)^2 + \\lambda\\sum\\limits_{j=0}^{M}|w_j|$ , then:"
   ]
  },
  {
   "cell_type": "markdown",
   "id": "c2c92431",
   "metadata": {},
   "source": [
    "$J(w) = \\frac{1}{2}(t-Xw)^T(t-Xw) + \\lambda |w|$"
   ]
  },
  {
   "cell_type": "markdown",
   "id": "9eebc111",
   "metadata": {},
   "source": [
    "$ = \\frac{1}{2} (t^Tt - t^TXw - w^TX^Tt + w^TX^TXw) + \\lambda |w| $"
   ]
  },
  {
   "cell_type": "markdown",
   "id": "c378d8e6",
   "metadata": {},
   "source": [
    "Thus we have it that: $\\frac{\\partial J(w)}{\\partial w} = 0$    "
   ]
  },
  {
   "cell_type": "markdown",
   "id": "7f160a30",
   "metadata": {},
   "source": [
    "and therefore, $-t^TX + w^TX^TX + \\alpha \\lambda$, such that, $\\alpha = sign(w)$"
   ]
  },
  {
   "cell_type": "markdown",
   "id": "60089650",
   "metadata": {},
   "source": [
    "$ => -(X^T(t-Xw + \\alpha \\lambda))$"
   ]
  },
  {
   "cell_type": "markdown",
   "id": "e78c99d8",
   "metadata": {},
   "source": [
    "From here, we can see that we cannot solve for w easily with a closed form solution. We thus will use this derivative and express it in the form of the gradient of MSE as the update term in gradient descent - a numerical method used to approximate and converge upon the solution."
   ]
  },
  {
   "cell_type": "markdown",
   "id": "fd07afc0",
   "metadata": {},
   "source": [
    "in gradient descent we have it that: $w^{(t+1)} <= w^{(t)} - \\eta \\nabla_w MSE(w)$"
   ]
  },
  {
   "cell_type": "markdown",
   "id": "6f6d01fd",
   "metadata": {},
   "source": [
    "To express what we have thus far into the gradient of MSE term, all me must do is multiply by 2 and divide by the number of samples since it is \"mean\" squared error: $\\nabla_w MSE(w) = -\\frac{2}{m}(X^T(t-Xw + b + \\alpha \\lambda))$, where b is the bias that comes from the gradient descent, which we define as: $-\\frac{2}{m}\\sum\\limits_{i=1}^{N}(t_i-Xw)$"
   ]
  },
  {
   "cell_type": "markdown",
   "id": "7046b474",
   "metadata": {},
   "source": [
    "So in gradient descent we have it that:  \n",
    "$w^{(t+1)} <= w^{(w)} - \\eta (-\\frac{2}{m}(X^T(t-Xw + b + \\alpha \\lambda)))$  \n",
    "$b^{(t+1)} <= b^{(t)} - \\eta (-\\frac{2}{m}\\sum\\limits_{i=1}^{N}(t_i-Xw)) $"
   ]
  },
  {
   "cell_type": "markdown",
   "id": "2fd1f349",
   "metadata": {},
   "source": [
    "These are the update equations we will use to iterate towards the solution for the parameters for lasso regression."
   ]
  },
  {
   "cell_type": "code",
   "execution_count": null,
   "id": "20571f23",
   "metadata": {},
   "outputs": [],
   "source": []
  },
  {
   "cell_type": "markdown",
   "id": "4a2bf9dc",
   "metadata": {},
   "source": [
    "## Code solutions for regression tasks"
   ]
  },
  {
   "cell_type": "code",
   "execution_count": 38,
   "id": "e64bab2d",
   "metadata": {},
   "outputs": [
    {
     "data": {
      "text/plain": [
       "linear_regression_ridge (generic function with 1 method)"
      ]
     },
     "execution_count": 38,
     "metadata": {},
     "output_type": "execute_result"
    }
   ],
   "source": [
    "function linear_regression_ridge(X,y,lambda)\n",
    "    \n",
    "    s = size(X)[2]\n",
    "    Im =1* Matrix(I, s, s)\n",
    "    \n",
    "    w = inv(transpose(X)*X + lambda*Im) * transpose(X) * y\n",
    "    \n",
    "    pred = X * w\n",
    "    \n",
    "    err = y - pred\n",
    "    \n",
    "    return w    \n",
    "    \n",
    "end"
   ]
  },
  {
   "cell_type": "code",
   "execution_count": 39,
   "id": "3810ee68",
   "metadata": {},
   "outputs": [
    {
     "data": {
      "text/plain": [
       "linear_regression_lasso_GD (generic function with 1 method)"
      ]
     },
     "execution_count": 39,
     "metadata": {},
     "output_type": "execute_result"
    }
   ],
   "source": [
    "function linear_regression_lasso_GD(X, y, lambda)\n",
    "    \n",
    "    learning_rate = .025\n",
    "    iterations = 8000\n",
    "    l1_penalty = lambda\n",
    "    n = size(X)[2] # feature number\n",
    "    m = size(X)[1] #sample number\n",
    "    w = zeros(n) # shape of the params (feature #)\n",
    "    b = 0\n",
    "    \n",
    "    for i in 1:iterations        \n",
    "        y_pred = zeros(m)\n",
    "        for k in 1:m\n",
    "            y_pred[k] = dot(X[k,:], w) + b\n",
    "        end\n",
    "        \n",
    "        #calculate gradients\n",
    "        dW = zeros(n) # shape of the params (feature #)\n",
    "        for j in 1:n\n",
    "            if w[j] > 0  \n",
    "                dW[j] = ( -1 * (2 * (dot(X[:,j], y - y_pred) ) ) + l1_penalty) ./ m\n",
    "            else\n",
    "                dW[j] = ( -1 * (2 * (dot(X[:,j], y - y_pred) ) ) - l1_penalty) ./ m\n",
    "            end\n",
    "        end\n",
    "        \n",
    "        db = - 2 * sum(y - y_pred) ./ m\n",
    "        \n",
    "        w = w - learning_rate*dW\n",
    "        b = b - learning_rate*db\n",
    "        \n",
    "    end\n",
    "    \n",
    "    return w, b\n",
    "    \n",
    "end"
   ]
  },
  {
   "cell_type": "code",
   "execution_count": 40,
   "id": "0a01c4e3",
   "metadata": {},
   "outputs": [
    {
     "data": {
      "text/plain": [
       "linear_regression_test (generic function with 1 method)"
      ]
     },
     "execution_count": 40,
     "metadata": {},
     "output_type": "execute_result"
    }
   ],
   "source": [
    "#for performing linear regression on some data X with provided coefficients w\n",
    "function linear_regression_test(X,w)\n",
    "    \n",
    "    pred = X * w\n",
    "    \n",
    "    return pred\n",
    "    \n",
    "end"
   ]
  },
  {
   "cell_type": "code",
   "execution_count": 41,
   "id": "1c8568c8",
   "metadata": {},
   "outputs": [
    {
     "data": {
      "text/plain": [
       "linear_regression_test_GD (generic function with 1 method)"
      ]
     },
     "execution_count": 41,
     "metadata": {},
     "output_type": "execute_result"
    }
   ],
   "source": [
    "#for performing linear regression on some data X with provided coefficients w for gradient descent regression\n",
    "function linear_regression_test_GD(X,w,b)\n",
    "    \n",
    "    m = size(X)[1]\n",
    "    pred = zeros(m)\n",
    "    for k in 1:m\n",
    "        pred[k] = dot(X[k,:], w) + b\n",
    "    end\n",
    "    \n",
    "    return pred\n",
    "    \n",
    "end"
   ]
  },
  {
   "cell_type": "code",
   "execution_count": null,
   "id": "5a9bb10a",
   "metadata": {},
   "outputs": [],
   "source": []
  },
  {
   "cell_type": "code",
   "execution_count": null,
   "id": "dbf36886",
   "metadata": {},
   "outputs": [],
   "source": []
  },
  {
   "cell_type": "markdown",
   "id": "ff64eaf9",
   "metadata": {},
   "source": [
    "## Analysis of algorithms: conditioning, complexities, and flop counts"
   ]
  },
  {
   "cell_type": "markdown",
   "id": "cb5d295e",
   "metadata": {},
   "source": [
    "## Conditioning"
   ]
  },
  {
   "cell_type": "markdown",
   "id": "04f26d9b",
   "metadata": {},
   "source": [
    "### Ridge Regression"
   ]
  },
  {
   "cell_type": "code",
   "execution_count": 42,
   "id": "3d89cb0e",
   "metadata": {},
   "outputs": [
    {
     "data": {
      "text/plain": [
       "ridge_conditioning (generic function with 1 method)"
      ]
     },
     "execution_count": 42,
     "metadata": {},
     "output_type": "execute_result"
    }
   ],
   "source": [
    "# This Function checks the conditioning of the Ridge Regression\n",
    "# by checking each individual operation to see if it is well conditioned.\n",
    "# If each individual operation of the regression is well conditioned, \n",
    "# then the entire algorithm is well conditioned. If a part of the \n",
    "# regression is ill conditioned then the algorithm is not optimal.\n",
    "function ridge_conditioning(X,y,lambda)\n",
    "    k = zeros(0)                                           # vector containing all condition numbers\n",
    "    \n",
    "    s  = size(X)[2]\n",
    "    push!(k,1)                                                       # s  = size(X)[2]\n",
    "    \n",
    "    Im = 1 * Matrix(I, s, s)\n",
    "    push!(k,1)                                                       # Im = 1 * Matrix(I, s, s)\n",
    "    \n",
    "    w = inv(transpose(X)*X + lambda*Im) * transpose(X) * y\n",
    "    A = transpose(X)*X\n",
    "    push!(k, norm(transpose(X)*X) * norm(inv(transpose(X)*X)))       # xT * x\n",
    "    b = lambda*Im\n",
    "    push!(k, norm(lambda) * norm(inv(lambda)))                       # lambda * I\n",
    "    C = A + b\n",
    "    push!(k, norm(A)*norm(inv(A)) + norm(b)*norm(inv(b)))            # A + b\n",
    "    D = inv(C)\n",
    "    push!(k, norm(inv(C))*norm(C))                                   # inv(C)\n",
    "    E = transpose(X) * y\n",
    "    push!(k, (norm(transpose(X)) * norm(y)) / norm(transpose(X) * y))# xT * y\n",
    "    F = D * E\n",
    "    push!(k, (norm(D) * norm(E))/norm(D*E))                          # D * E\n",
    "    \n",
    "    pred = X * w\n",
    "    push!(k, (norm(X) * norm(w))/norm(X*w))                           # X * w\n",
    "        \n",
    "    err = y - pred\n",
    "    push!(k, norm(err))                                              # y - pred\n",
    "    \n",
    "    return k\n",
    "end"
   ]
  },
  {
   "cell_type": "code",
   "execution_count": null,
   "id": "bd7a7e0c",
   "metadata": {},
   "outputs": [],
   "source": []
  },
  {
   "cell_type": "code",
   "execution_count": null,
   "id": "31333340",
   "metadata": {},
   "outputs": [],
   "source": []
  },
  {
   "cell_type": "markdown",
   "id": "77f79060",
   "metadata": {},
   "source": [
    "### Lasso Regression"
   ]
  },
  {
   "cell_type": "code",
   "execution_count": 43,
   "id": "3f6c46eb",
   "metadata": {},
   "outputs": [
    {
     "data": {
      "text/plain": [
       "lasso_gd_conditioning (generic function with 1 method)"
      ]
     },
     "execution_count": 43,
     "metadata": {},
     "output_type": "execute_result"
    }
   ],
   "source": [
    "function lasso_gd_conditioning(X, y, lambda)\n",
    "    learning_rate = .025\n",
    "    iterations = 8000\n",
    "    l1_penalty = lambda\n",
    "    n = size(X)[2] # feature number\n",
    "    m = size(X)[1] #sample number\n",
    "    w = zeros(n) # shape of the params (feature #)\n",
    "    b = 0\n",
    "    #Above declarations are all well-condtioned since they are assigning values to variables.\n",
    "    cond = zeros(0); #This var will contain largest condition number from all operations\n",
    "\n",
    "    for i in 1:iterations\n",
    "        y_pred = zeros(m); #Well-conditioned since it's assigning zeros to variable\n",
    "        for k in 1:m\n",
    "            eq1 = dot(X[k,:], w);\n",
    "            k1 = (norm(X[k,:]) * norm(w)) / dot(X[k,:], w); #Condition number for dot product is cond f(x) = 1/cos(x,y) = inverse cosine angle between both vectors\n",
    "            push!(cond,k1)\n",
    "\n",
    "            eq2 = eq1 + b;\n",
    "            y_pred[k] = eq2;\n",
    "            k2 = abs(eq1 / (eq2)); # abs(eq1 / (eq1 + b))\n",
    "            push!(cond,k2)\n",
    "        end\n",
    "\n",
    "        #calculate gradients\n",
    "        dW = zeros(n) # shape of the params (feature #)\n",
    "        #Well-condtioned since it's assigning zeros to variable \n",
    "        for j in 1:n\n",
    "            if w[j] > 0\n",
    "                eq3 = y - y_pred; \n",
    "                #conditioning would be determined by the conditioning of of the subtraction of every respective element\n",
    "                k3 = norm(y - y_pred);\n",
    "                push!(cond,k3)\n",
    "\n",
    "                eq4 = dot(X[:,j], eq3);\n",
    "                k4 = (norm(X[:,j]) * norm(eq3)) / dot(X[:,j], eq3);\n",
    "                push!(cond,k4)\n",
    "\n",
    "                eq5 = 2 * eq4; #Condition Number 1 since multiplying by scalar.\n",
    "                k5 = 1;\n",
    "                push!(cond,k5)\n",
    "\n",
    "                eq6 = -1 * eq5;\n",
    "                #Condition Number 1 since multiplying by scalar.\n",
    "                k6 = 1;\n",
    "                push!(cond,k6)\n",
    "\n",
    "                eq7 = eq6 + l1_penalty;\n",
    "                k7 = norm(eq7);\n",
    "                push!(cond,k7)\n",
    "\n",
    "                eq8 = eq7 ./ m;\n",
    "                dW[j] = eq8;\n",
    "                #Condition number is 1 since it is the element division of two variables\n",
    "                k8 = 1;\n",
    "                push!(cond,k8)\n",
    "            else\n",
    "                eq9 = y - y_pred; \n",
    "                #conditioning would be determined by the conditioning of of the subtraction of every respective element\n",
    "                k9 = norm(y - y_pred);\n",
    "                push!(cond,k9)\n",
    "\n",
    "                eq10 = dot(X[:,j], eq9);\n",
    "                k10 = (norm(X[:,j]) * norm(eq9)) / dot(X[:,j], eq9);\n",
    "                push!(cond,k10)\n",
    "\n",
    "                eq11 = 2 * eq10; #Condition Number 1 since multiplying by scalar.\n",
    "                k11 = 1;\n",
    "                push!(cond,k11)\n",
    "\n",
    "                eq12 = -1 * eq11;\n",
    "                #Condition Number 1 since multiplying by scalar.\n",
    "                k12 = 1;\n",
    "                push!(cond,k12)\n",
    "\n",
    "                eq13 = eq12 - l1_penalty;\n",
    "                k13 = norm(eq13);\n",
    "                push!(cond,k13)\n",
    "\n",
    "                eq14 = eq13 ./ m;\n",
    "                dW[j] = eq14;\n",
    "                #Condition number is 1 since it is the element division of two variables\n",
    "                k14 = 1;\n",
    "                push!(cond,k14)\n",
    "            end\n",
    "                \n",
    "            eq15 = y - y_pred;\n",
    "            k15 = norm(y - y_pred);\n",
    "            push!(cond,k15)\n",
    "\n",
    "            eq16 = sum(eq15);\n",
    "            k16 = 1;\n",
    "            push!(cond,k16)\n",
    "\n",
    "            eq17 = - 2 * eq16; #Scalar multiplicaiton in well-conditioned\n",
    "            k17 = 1;\n",
    "            push!(cond,k17)\n",
    "\n",
    "            eq18 = eq17 ./ m; # dividing by a scalar m is well-conditioned\n",
    "            db = eq18;\n",
    "            k18 = 1;\n",
    "            push!(cond,k18)\n",
    "\n",
    "            eq19 = learning_rate*dW; #scalar multiplication is well-conditioned\n",
    "            k19 = 1;\n",
    "            push!(cond,k19)\n",
    "\n",
    "            eq20 = w - eq19;\n",
    "            w = eq20;\n",
    "            k20 = norm(w - eq19);\n",
    "            push!(cond,k20)\n",
    "\n",
    "            eq21 = learning_rate*db; #scalar multiplication is well-conditioned\n",
    "            k21 = 1; \n",
    "            push!(cond,k21)\n",
    "\n",
    "            eq22 = b - eq21;\n",
    "            b = eq22;\n",
    "            k22 = norm(b - eq21);\n",
    "            push!(cond,k22)\n",
    "\n",
    "        end\n",
    "        \n",
    "    end\n",
    "    return cond;\n",
    "    \n",
    "end"
   ]
  },
  {
   "cell_type": "code",
   "execution_count": null,
   "id": "b15502f9",
   "metadata": {},
   "outputs": [],
   "source": []
  },
  {
   "cell_type": "code",
   "execution_count": null,
   "id": "e24c9485",
   "metadata": {},
   "outputs": [],
   "source": []
  },
  {
   "cell_type": "markdown",
   "id": "c2c94f99",
   "metadata": {},
   "source": [
    "## Time complexity"
   ]
  },
  {
   "cell_type": "markdown",
   "id": "befbb297",
   "metadata": {},
   "source": [
    "### Ridge Regression"
   ]
  },
  {
   "cell_type": "code",
   "execution_count": 20,
   "id": "89db7b1c",
   "metadata": {},
   "outputs": [
    {
     "data": {
      "text/plain": [
       "ridge_TC (generic function with 1 method)"
      ]
     },
     "execution_count": 20,
     "metadata": {},
     "output_type": "execute_result"
    }
   ],
   "source": [
    "# Ridge Regression Function Decomposed to show computations:\n",
    "# Parameters- X: (m x n), y: (m x 1), lambda: constant\n",
    "function ridge_TC(X,y,lambda)\n",
    "    s  = size(X)[2]                          # O(1)      [CHANGED [1] to [2]... Correct (grab m or n)?]\n",
    "    Im = 1 * Matrix(I, s, s)                 # O(n^2)    [Constructing (n x n) I Matrix]\n",
    "    xT = transpose(X)                        # O(1)      [(m x n)] => (n x m)\n",
    "    xT_X = xT * X                            # O(m^2*n)  [(n x m) * (m x n)] => (n x n)\n",
    "    l_Im = lambda * Im                       # O(n^2)    [Scalar multiplication of (n x n) matrix]\n",
    "    xT_lambda = l_Im + xT_X                  # O(n^2)    [Scalar addition of (n x n) matrix]\n",
    "    inverse = inv(xT_lambda)                 # O(n^3)    [Inverse (Gauss Elimination) with matrix of size (n x n)]\n",
    "    w = inverse * xT                         # O(n^2*m)  [(n x n) * (n x m)] => (n x m)\n",
    "    w *= y                                   # O(m*n)    [(n x m) * (m x 1)] => (n x 1)\n",
    "    pred = X * w                             # O(m*n)    [(m x n) * (n x 1)] => (m x 1)\n",
    "    err = y - pred                           # O(m)      [(m x 1) - (m x 1)] => (m x 1)\n",
    "    \n",
    "    return w, pred, err                      # O(1)\n",
    "end"
   ]
  },
  {
   "cell_type": "code",
   "execution_count": 21,
   "id": "cba48c07",
   "metadata": {},
   "outputs": [],
   "source": [
    "# Time Complexities Added\n",
    "# O(n^3) + O(n^2*m) + O(m^2*n) + O(n^2) + O(n^2) + O(n^2) + O(m*n) + O(m*n) + O(m) + O(1) + O(1) + O(1)\n",
    "\n",
    "# Final Time Complexity: \n",
    "# O(n^3) + O(n^2*m) + O(m^2*n)\n",
    "\n",
    "# Note: If m >> n (Data points >> Features), time complexity can be reduced to O(m^2*n)"
   ]
  },
  {
   "cell_type": "code",
   "execution_count": 22,
   "id": "b4bb353b",
   "metadata": {},
   "outputs": [],
   "source": [
    "# Variable Dimensions\n",
    "# --------------------------------\n",
    "# lambda = constant\n",
    "# (n x n) = xT_X, inverse, Im, l_Im xT_lambda\n",
    "# (n x m) = xT\n",
    "# (n x 1) = w\n",
    "# (m x n) = X\n",
    "# (m x 1) = y, pred, err"
   ]
  },
  {
   "cell_type": "markdown",
   "id": "2d0e920e",
   "metadata": {},
   "source": [
    "### Lasso Regression"
   ]
  },
  {
   "cell_type": "code",
   "execution_count": 24,
   "id": "d3928933",
   "metadata": {},
   "outputs": [
    {
     "data": {
      "text/plain": [
       "lasso_TC (generic function with 1 method)"
      ]
     },
     "execution_count": 24,
     "metadata": {},
     "output_type": "execute_result"
    }
   ],
   "source": [
    "# Parameters - X: (m x n), y: (m x 1), lambda: constant, learning_rate: constant, iterations: constant\n",
    "# Variables  - m: rows, n: cols, i: iterations\n",
    "\n",
    "# Note: This is the \"expanded\" version of our function, allowing each instruction to have its own line.\n",
    "function lasso_TC(X, y, lambda)\n",
    "    learning_rate = .025                    # O(1)   [Variable Assignment]\n",
    "    iterations = 8000                       # O(1)   [Variable Assignment]\n",
    "    l1_penalty = lambda                     # O(1)   [Variable Assignment]\n",
    "    n = size(X)[2]                          # O(1)   [Accessing Size Variable]\n",
    "    m = size(X)[1]                          # O(1)   [Accessing Size Variable]\n",
    "    w = zeros(n)                            # O(n)   [Creation of vector /w size n]\n",
    "    b = 0                                   # O(1)   [Variable Assignment]\n",
    "    \n",
    "    for i in 1:iterations                   # O(i)   [Loop]\n",
    "        y_pred = zeros(m)                   # O(m)     [Creation of vector /w size m]\n",
    "        y_res = y - y_pred                  # O(m)     [Vector Subtraction (m x 1) - (m x 1)]\n",
    "        \n",
    "        for k in 1:m                        # O(m)     [Loop]\n",
    "            dp = dot(X[k,:], w)             # O(n)         [(1 x n).(1 x n)]\n",
    "            dp += b                         # O(1)         [Scalar Addition]\n",
    "            y_pred[k] = dp                  # O(1)         [Value Assignment]\n",
    "        end\n",
    "        \n",
    "        # Calculate gradients\n",
    "        dW = zeros(n)                       # O(n)      [shape of the params (feature #)]\n",
    "        for j in 1:n                        # O(n)      [Loop]\n",
    "            dp_XY = dot(X[:,j], y_res)      # O(m)          [Dot Product (m x 1).(m x 1)]\n",
    "            dp_XY *= -2                     # O(1)          [Scalar Multiplication]\n",
    "            \n",
    "            if w[j] > 0                     # O(1)          [Accessing index] [IF/ELSE: Calculations / Iteration = 2*O(1)]\n",
    "                XY_pen = dp_XY + l1_penalty # O(1)          [Scalar Addition]\n",
    "                dW[j] = XY_pen / m          # O(1)          [Scalar Division]\n",
    "            else\n",
    "                XY_pen = dp_XY - l1_penalty # O(1)          [Scalar Subtraction]\n",
    "                dW[j] = XY_pen / m          # O(1)          [Scalar Subtraction]\n",
    "            end\n",
    "        end\n",
    "        \n",
    "        db = sum(y_res)                     # O(m)      [Summation of (m x 1)]\n",
    "        db *= -2                            # O(1)      [Scalar Multiplication]\n",
    "        db /= m                             # O(1)      [Scalar Division]\n",
    "        \n",
    "        lrdW = learning_rate*dW             # O(1)      [Scalar Multiplication]\n",
    "        w -= lrdW                           # O(1)      [Scalar Subtraction]\n",
    "        \n",
    "        lrdb = learning_rate*db             # O(1)      [Scalar Multiplication]\n",
    "        b -= lrdb                           # O(1)      [Scalar Subtraction]\n",
    "        \n",
    "    end\n",
    "    \n",
    "    return w, b                             # O(1)   [Return Values]\n",
    "    \n",
    "end"
   ]
  },
  {
   "cell_type": "code",
   "execution_count": 24,
   "id": "11ec65dc",
   "metadata": {},
   "outputs": [],
   "source": [
    "# Variable Dimensions\n",
    "# ---------------------\n",
    "# Constant: learning_rate, iterations, l1_penalty, n, m, b, db, lrdW, lrdb, lambda\n",
    "# (n x 1) : w, dW\n",
    "# (m x 1) : y_pred, y_res, y\n",
    "# (m x n) : X"
   ]
  },
  {
   "cell_type": "code",
   "execution_count": 25,
   "id": "bb1338ef",
   "metadata": {},
   "outputs": [],
   "source": [
    "# Total Time Complexity\n",
    "# (6*O(1) + O(n)) + i*(O(m) + O(m) + m(O(n) + O(1) + O(1)) + O(n) + n(O(m) + O(1) + O(1) + O(1) + O(1)) + O(m) + 7*O(1))\n",
    "# (6*O(1) + O(n)) + i*(5*O(m) + 2*O(m*n) + 5*O(n) + 7*O(1))\n",
    "# (2*O(m*n*i) + 5*O(m*i) + 5*O(n*i) + 7*O(i)) + (6*O(1) + O(n))\n",
    "# O(m*n*i) + O(m*i) + O(n*i) + O(i) + O(n) + O(1) \n",
    "\n",
    "# Final Time Complexity\n",
    "# O(m*n*i)"
   ]
  },
  {
   "cell_type": "code",
   "execution_count": 25,
   "id": "20bc7d52",
   "metadata": {},
   "outputs": [],
   "source": [
    "# Time Complexity References\n",
    "# ----------------------------------------\n",
    "# Size(X)       : O(1)\n",
    "# References    : [https://stackoverflow.com/questions/21614298/what-is-the-runtime-of-array-length, https://blog.finxter.com/python-list-length-whats-the-runtime-complexity-of-len/, ]\n",
    "\n",
    "# Transpose(X)  : O(1)    \n",
    "# References    : [https://www.mathworks.com/matlabcentral/answers/495668-what-s-the-transpose-complexity-big-o-in-matlab, https://stackoverflow.com/questions/61157101/in-julia-transpose-operator]\n",
    "\n",
    "# Inverse(X)    : Worst Case-O(n^3) (Gauss Elimination), Best Case O(n^2.373)\n",
    "# References    : [https://stackoverflow.com/questions/54890422/inv-versus-on-julia]\n",
    "\n",
    "# Matrix *      : (m x n) * (n * p) => O(n*m*p), O(n^3)-O(n^2.72...)\n",
    "# References    : [https://en.wikipedia.org/wiki/Computational_complexity_of_mathematical_operations#Matrix_algebra]\n",
    "\n",
    "# Matrix -      : O(m*n)\n",
    "# References    : [https://www.geeksforgeeks.org/different-operation-matrices/]\n",
    "\n",
    "# Matrix(I,s,s) : O(n^2)\n",
    "# References    : [https://stackoverflow.com/questions/282926/time-complexity-of-memory-allocation]\n",
    "\n",
    "# Zeros(n)      : O(n)\n",
    "# References    : [https://discourse.julialang.org/t/faster-zeros-with-calloc/69860/13, https://stackoverflow.com/questions/5640850/java-whats-the-big-o-time-of-declaring-an-array-of-size-n]\n",
    "\n",
    "# Dot(n, n)     : O(n)\n",
    "# References    : [https://helloacm.com/teaching-kids-programming-compute-the-dot]"
   ]
  },
  {
   "cell_type": "code",
   "execution_count": null,
   "id": "f73907f7",
   "metadata": {},
   "outputs": [],
   "source": []
  },
  {
   "cell_type": "markdown",
   "id": "6a90bbd3",
   "metadata": {},
   "source": [
    "## Space Complexity"
   ]
  },
  {
   "cell_type": "markdown",
   "id": "19129928",
   "metadata": {},
   "source": [
    "### Ridge Regression"
   ]
  },
  {
   "cell_type": "code",
   "execution_count": 27,
   "id": "5cda0b7c",
   "metadata": {},
   "outputs": [
    {
     "data": {
      "text/plain": [
       "ridge_SC (generic function with 1 method)"
      ]
     },
     "execution_count": 27,
     "metadata": {},
     "output_type": "execute_result"
    }
   ],
   "source": [
    "# Actual Ridge Algorithm\n",
    "function ridge_SC(X,y,lambda)                               # X: (m x n), Y: (m x 1), lambda: (constant)\n",
    "    n = size(X)[2]                                          # O(1)    1 variable\n",
    "    Im = 1 * Matrix(I, n, n)                                # O(n^2)  (n x n) matrix\n",
    "    w = inv(transpose(X)*X + lambda*Im) * transpose(X) * y  # O(n)    (n x 1) matrix\n",
    "                                                            # O(n^2)  (n x n) matrices [3 temporary matrices]\n",
    "                                                            # O(m*n)  (n x m) matrix   [1 temporary matrix]\n",
    "    pred = X * w                                            # O(m)    (m x 1) matrix\n",
    "    err = y - pred                                          # O(m)    (m x 1) matrix\n",
    "    \n",
    "    return w, pred, err                                     # O(1)    Return on Stack\n",
    "end"
   ]
  },
  {
   "cell_type": "code",
   "execution_count": 27,
   "id": "d42feb0b",
   "metadata": {},
   "outputs": [],
   "source": [
    "# Total Space Complexity\n",
    "# O(n^2) + O(n^2) + O(n^2) + O(n^2) + O(n*m) + O(n) + O(m) + O(m) + O(1) + O(1)\n",
    "\n",
    "# Final Space Complexity\n",
    "# O(n^2) + O(n*m)"
   ]
  },
  {
   "cell_type": "markdown",
   "id": "14d4f694",
   "metadata": {},
   "source": [
    "### Lasso Regression"
   ]
  },
  {
   "cell_type": "code",
   "execution_count": 26,
   "id": "a9c9ebf5",
   "metadata": {},
   "outputs": [
    {
     "data": {
      "text/plain": [
       "lasso_SC (generic function with 1 method)"
      ]
     },
     "execution_count": 26,
     "metadata": {},
     "output_type": "execute_result"
    }
   ],
   "source": [
    "# Parameters - X: (m x n), y: (m x 1), lambda: constant, learning_rate: constant, iterations: constant\n",
    "# Variables  - m: rows, n: cols, i: iterations\n",
    "function lasso_SC(X, y, lambda)\n",
    "    learning_rate = .025                    # O(1)   [Variable Assignment]\n",
    "    iterations = 8000                       # O(1)   [Variable Assignment]\n",
    "    l1_penalty = lambda                     # O(1)   [Variable Assignment]\n",
    "    n = size(X)[2]                          # O(1)   [Accessing Size Variable]\n",
    "    m = size(X)[1]                          # O(1)   [Accessing Size Variable]\n",
    "    w = zeros(n)                            # O(n)   [Creation of vector /w size n]\n",
    "    b = 0                                   # O(1)   [Variable Assignment]\n",
    "    \n",
    "    for i in 1:iterations                   # O(i)   [Loop]\n",
    "        y_pred = zeros(m)                   # O(m)       [Creation of vector of size m]\n",
    "        y_res = y - y_pred                  # O(m)       [Creation of vector of size m]\n",
    "        \n",
    "        for k in 1:m                        # O(m)       [Loop]\n",
    "            y_pred[k] = dot(X[k,:], w) + b  # O(1)           [Storing Value]\n",
    "                                            # O(m)           [+ Temporary Dot Product Vector]\n",
    "                                            # O(1)           [+ Temporary Scalar Value]\n",
    "        end\n",
    "        \n",
    "        #calculate gradients\n",
    "        dW = zeros(n)                       # O(n)       [Creation of vector /w size n]\n",
    "        for j in 1:n                        # O(n)       [Loop]\n",
    "            dp_XY = -2 * dot(X[:,j], y_res) # O(m)          [Creation of vector size m]\n",
    "                                            # O(1)          [+ Temporary Scalar Value]\n",
    "            if w[j] > 0                     # ----          [Access Index] [IF/ELSE: Space / Iteration = 2*O(1)]\n",
    "                dW[j] = (dp_XY + l1_penalty) ./ m  # O(1)   [Variable Assignment]\n",
    "                                                   # O(1)   [+ Temporary Scalar Value]\n",
    "            else\n",
    "                dW[j] = (dp_XY - l1_penalty) ./ m  # O(1)   [Variable Assignment]\n",
    "                                                   # O(1)   [+ Temporary Scalar Value]\n",
    "            end\n",
    "        end\n",
    "        \n",
    "        db = - 2 * sum(y - y_pred) ./ m            # O(1)   [Variable Assignment]\n",
    "                                                   # O(1)   [+ Temporary Scalar Value] x2\n",
    "        \n",
    "        w = w - learning_rate*dW                   # O(1)   [Variable Assignment]\n",
    "                                                   # O(1)   [+ Temporary Scalar Value]\n",
    "        \n",
    "        b = b - learning_rate*db                   # O(1)   [Variable Assignment]\n",
    "                                                   # O(1)   [+ Temporary Scalar Value]\n",
    "    end\n",
    "    \n",
    "    return w, b                                    # O(n)   [Returning (n x 1)]\n",
    "                                                   # O(1)   [+ Returning scalar]\n",
    "    \n",
    "end"
   ]
  },
  {
   "cell_type": "code",
   "execution_count": 29,
   "id": "4a947473",
   "metadata": {},
   "outputs": [],
   "source": [
    "# Total Space Complexity\n",
    "# Variables: m: rows, n: columns, i: iterations\n",
    "\n",
    "# (6*O(1) + O(n)) + i*(O(m) + O(m) + m*(O(1) + O(m) + O(1)) + O(n) + n*(O(m) + 3*O(1)) + O(n) + 7*O(1))\n",
    "# (6*O(1) + O(n)) + i*(O(m^2) + O(m*n) + 5*O(n) + 4*O(m) + 7*O(1))\n",
    "# (6*O(1) + O(n)) + i*(O(m^2) + O(m*n) + 5*O(n) + 4*O(m) + 7*O(1))\n",
    "# O(m^2*i) + O(m*n*i) + 5*O(n*i) + 4*O(m*i) + 7*O(i) + O(n) + 6*O(1)\n",
    "# O(m^2*i) + O(m*n*i) + O(n*i) + O(m*i) + O(i) + O(n) + O(1)\n",
    "\n",
    "# Final Space Complexity \n",
    "# O(m^2*i) + O(m*n*i)"
   ]
  },
  {
   "cell_type": "code",
   "execution_count": 30,
   "id": "9e8c9a8b",
   "metadata": {},
   "outputs": [],
   "source": [
    "# Space Complexity References\n",
    "# -------------------------------\n",
    "# [Space Complexity Calculates Temp Vars?] https://www.studytonight.com/data-structures/space-complexity-of-algorithms"
   ]
  },
  {
   "cell_type": "markdown",
   "id": "a0c3e75f",
   "metadata": {},
   "source": [
    "## Flop Counts"
   ]
  },
  {
   "cell_type": "markdown",
   "id": "9f0b9cba",
   "metadata": {},
   "source": [
    "### Ridge Regression"
   ]
  },
  {
   "cell_type": "code",
   "execution_count": 31,
   "id": "7242e0fb",
   "metadata": {},
   "outputs": [
    {
     "data": {
      "text/plain": [
       "ridge_FC (generic function with 1 method)"
      ]
     },
     "execution_count": 31,
     "metadata": {},
     "output_type": "execute_result"
    }
   ],
   "source": [
    "# Ridge Regression Function Decomposed:\n",
    "# Parameters- X: (m x n), y: (m x 1), lambda: constant\n",
    "function ridge_FC(X,y,lambda)\n",
    "    n  = size(X)[2]                          # 0\n",
    "    Im = 1 * Matrix(I, n, n)                 # n^2          [Constructing (n x n) I Matrix]\n",
    "    xT = transpose(X)                        # 0            [(m x n)] => (n x m)\n",
    "    xT_X = xT * X                            # m^2*n        [(n x m) * (m x n)] => (n x n)\n",
    "    l_Im = lambda * Im                       # n^2          [Scalar multiplication of (n x n) matrix]\n",
    "    xT_lambda = l_Im + xT_X                  # n^2          [Scalar addition of (n x n) matrix]\n",
    "    inverse = inv(xT_lambda)                 # n^3 (approx) [Gauss Elimination with matrix of size (n x n)]\n",
    "    w = inverse * xT                         # n^2*m        [(n x n) * (n x m)] => (n x m)\n",
    "    w *= y                                   # m*n          [(n x m) * (m x 1)] => (n x 1)\n",
    "    pred = X * w                             # m*n          [(m x n) * (n x 1)] => (m x 1)\n",
    "    err = y - pred                           # m            [(m x 1) - (m x 1)] => (m x 1)\n",
    "    \n",
    "    return w, pred, err                      # 0\n",
    "end"
   ]
  },
  {
   "cell_type": "code",
   "execution_count": 32,
   "id": "4ca6d88b",
   "metadata": {},
   "outputs": [],
   "source": [
    "# Flop Count\n",
    "# n^2 + (m^2*n) + n^2 + n^2 + n^3 + n^2*m + m*n + m*n + m\n",
    "# Total Flop Count = n^3 + (3+m)n^2 + n*m^2 + 2m*n + m\n",
    "\n",
    "# Note: In the worst case, Gaussian Elimination for n x n will take ((5/6)n^3+(3/2)n^2-(7/6)n) floating point operations.\n",
    "# Worst Case Flops = (5/6)n^3 + ((9/2)+m)n^2 + n*m^2 + ((5/6)m)n + m"
   ]
  },
  {
   "cell_type": "markdown",
   "id": "dba4d409",
   "metadata": {},
   "source": [
    "### Lasso Regression"
   ]
  },
  {
   "cell_type": "code",
   "execution_count": 28,
   "id": "fcb526fb",
   "metadata": {},
   "outputs": [
    {
     "data": {
      "text/plain": [
       "linear_regression_lasso_GD (generic function with 1 method)"
      ]
     },
     "execution_count": 28,
     "metadata": {},
     "output_type": "execute_result"
    }
   ],
   "source": [
    "# Lasso Regression Function Decomposed:\n",
    "# Parameters - X: (m x n), y: (m x 1), lambda: constant, learning_rate: constant, iterations: constant\n",
    "# Variables  - m: rows, n: cols, i: iterations\n",
    "\n",
    "# Note: This is the \"expanded\" version of our function, allowing each instruction to have its own line.\n",
    "function linear_regression_lasso_GD(X, y, lambda)\n",
    "    learning_rate = .025                    # 0\n",
    "    iterations = 8000                       # 0\n",
    "    l1_penalty = lambda                     # 0\n",
    "    n = size(X)[2]                          # 0\n",
    "    m = size(X)[1]                          # 0\n",
    "    w = zeros(n)                            # 0\n",
    "    b = 0                                   # 0\n",
    "    \n",
    "    for i in 1:iterations                   # i*   [Loop]\n",
    "        y_pred = zeros(m)                   # 0\n",
    "        y_res = y - y_pred                  # m         [Vector Subtraction (m x 1) - (m x 1)]\n",
    "        \n",
    "        for k in 1:m                        # m*        [Loop]\n",
    "            dp = dot(X[k,:], w)             # n            [(1 x n).(1 x n)]\n",
    "            dp += b                         # 1            [Scalar Addition]\n",
    "            y_pred[k] = dp                  # 0\n",
    "        end\n",
    "        \n",
    "        # Calculate gradients\n",
    "        dW = zeros(n)                       # 0\n",
    "        for j in 1:n                        # n*        [Loop]\n",
    "            dp_XY = dot(X[:,j], y_res)      # m             [Dot Product (m x 1).(m x 1)]\n",
    "            dp_XY *= -2                     # 1\n",
    "            \n",
    "            if w[j] > 0                     # -             [IF/ELSE: Flops / Iteration = 2]            \n",
    "                XY_pen = dp_XY + l1_penalty # 1                 [Scalar Addition]\n",
    "                dW[j] = XY_pen / m          # 1                 [Scalar Division]\n",
    "            else\n",
    "                XY_pen = dp_XY - l1_penalty # 1                 [Scalar Subtraction]\n",
    "                dW[j] = XY_pen / m          # 1                 [Scalar Subtraction]\n",
    "            end\n",
    "        end\n",
    "        \n",
    "        db = sum(y_res)                     # m         [Summation of (m x 1)]\n",
    "        db *= -2                            # 1         [Scalar Multiplication]\n",
    "        db /= m                             # 1         [Scalar Division]\n",
    "        \n",
    "        lrdW = learning_rate*dW             # 1         [Scalar Multiplication]\n",
    "        w -= lrdW                           # 1         [Scalar Subtraction]\n",
    "        \n",
    "        lrdb = learning_rate*db             # 1         [Scalar Multiplication]\n",
    "        b -= lrdb                           # 1         [Scalar Subtraction]\n",
    "        \n",
    "    end\n",
    "    \n",
    "    return w, b                             # O(1)   [Return Values]\n",
    "    \n",
    "end"
   ]
  },
  {
   "cell_type": "code",
   "execution_count": 34,
   "id": "4ad50977",
   "metadata": {},
   "outputs": [],
   "source": [
    "# Flop Count:\n",
    "# Variables: m: rows, n: columns, i: iterations\n",
    "# i * (m + m*(n + 1) + n*(m + 1 + 1 + 1) + m + 1 + 1 + 1 + 1 + 1)\n",
    "\n",
    "# Total Flops = i * (2mn + 3m + 3n + 6)"
   ]
  },
  {
   "cell_type": "code",
   "execution_count": 35,
   "id": "3c2d4630",
   "metadata": {},
   "outputs": [],
   "source": [
    "# Flop Count References:\n",
    "# Flops For nxn Gaussian Elimination: http://web.mit.edu/18.06/www/Fall15/Matrices.pdf"
   ]
  },
  {
   "cell_type": "code",
   "execution_count": null,
   "id": "0d5e3ccb",
   "metadata": {},
   "outputs": [],
   "source": []
  },
  {
   "cell_type": "markdown",
   "id": "71304cb4",
   "metadata": {},
   "source": [
    "## Perform regression tasks on data"
   ]
  },
  {
   "cell_type": "code",
   "execution_count": 19,
   "id": "a4a96f61",
   "metadata": {},
   "outputs": [
    {
     "data": {
      "text/plain": [
       "r_squared (generic function with 1 method)"
      ]
     },
     "execution_count": 19,
     "metadata": {},
     "output_type": "execute_result"
    }
   ],
   "source": [
    "function r_squared(targets, predictions)\n",
    "    \n",
    "    mean_target = mean(targets)\n",
    "    \n",
    "    ssr = 0\n",
    "    sst = 0\n",
    "    \n",
    "    for i in 1:size(targets)[1]\n",
    "        \n",
    "        ssr += (targets[i] - predictions[i])^2\n",
    "        sst += (targets[i] - mean_target)^2\n",
    "        \n",
    "    end\n",
    "    \n",
    "    r_sq = 1 - (ssr/sst)\n",
    "    \n",
    "end"
   ]
  },
  {
   "cell_type": "code",
   "execution_count": null,
   "id": "97d11a3d",
   "metadata": {},
   "outputs": [],
   "source": []
  },
  {
   "cell_type": "code",
   "execution_count": 44,
   "id": "6e09bb79",
   "metadata": {},
   "outputs": [],
   "source": [
    "lambdas = [.000001, .00001, .0001, .001, .01, .05, .1, .5, 1.5, 5, 10, 12, 15, 18, 20];"
   ]
  },
  {
   "cell_type": "code",
   "execution_count": 50,
   "id": "c637d682",
   "metadata": {},
   "outputs": [],
   "source": [
    "optimal_l1_params = zeros(8)\n",
    "optimal_l2_params = zeros(8)\n",
    "\n",
    "optimal_l1_r_sq = -1\n",
    "optimal_l2_r_sq = -1\n",
    "\n",
    "optimal_l1_lam = -1000\n",
    "optimal_l2_lam = -1000\n",
    "\n",
    "for it in lambdas\n",
    "    \n",
    "    parameters_l2 = linear_regression_ridge(matrix_data_train,matrix_target_train, it);\n",
    "    parameters_l1, b_l1 = linear_regression_lasso_GD(matrix_data_train,matrix_target_train, it);\n",
    "    \n",
    "    predictions_l2 = linear_regression_test(matrix_data_test, parameters_l2);\n",
    "    predictions_l1 = linear_regression_test_GD(matrix_data_test, parameters_l1, b_l1);\n",
    "    predictions_l1 = reshape(predictions_l1, length(predictions_l1), 1);\n",
    "    \n",
    "    r_sq_l2 = r_squared(sort(matrix_target_test, dims=1), sort(predictions_l2, dims=1));\n",
    "    r_sq_l1 = r_squared(sort(matrix_target_test, dims=1), sort(predictions_l1, dims=1));\n",
    "    \n",
    "    if r_sq_l2 > optimal_l2_r_sq\n",
    "        optimal_l2_r_sq = r_sq_l2\n",
    "        optimal_l2_params = parameters_l2\n",
    "        optimal_l2_lam = it\n",
    "    end\n",
    "    \n",
    "    if r_sq_l1 > optimal_l1_r_sq\n",
    "        optimal_l1_r_sq = r_sq_l1\n",
    "        optimal_l1_params = parameters_l1\n",
    "        optimal_l1_lam = it\n",
    "    end\n",
    "    \n",
    "    \n",
    "end"
   ]
  },
  {
   "cell_type": "code",
   "execution_count": 51,
   "id": "a1025c22",
   "metadata": {},
   "outputs": [
    {
     "name": "stdout",
     "output_type": "stream",
     "text": [
      "The optimal lambda coefficient for l1 norm is:1.0e-6\n",
      "The optimal lambda coefficient for l2 norm is:5.0\n",
      "The optimal r^2 value for l1 norm is:0.9046659108542182\n",
      "The optimal r^2 value for l2 norm is:0.8722628864709415\n"
     ]
    }
   ],
   "source": [
    "println(\"The optimal lambda coefficient for l1 norm is:\", optimal_l1_lam)\n",
    "println(\"The optimal lambda coefficient for l2 norm is:\", optimal_l2_lam)\n",
    "println(\"The optimal r^2 value for l1 norm is:\", optimal_l1_r_sq)\n",
    "println(\"The optimal r^2 value for l2 norm is:\", optimal_l2_r_sq)"
   ]
  },
  {
   "cell_type": "code",
   "execution_count": null,
   "id": "0059a69b",
   "metadata": {},
   "outputs": [],
   "source": []
  },
  {
   "cell_type": "markdown",
   "id": "e81a3836",
   "metadata": {},
   "source": [
    "## Evaluation of algorithm performance"
   ]
  },
  {
   "cell_type": "markdown",
   "id": "893a1d57",
   "metadata": {},
   "source": [
    "QQ-Plots and R squared values for optimal lambdas"
   ]
  },
  {
   "cell_type": "code",
   "execution_count": 81,
   "id": "e01c9eff",
   "metadata": {},
   "outputs": [],
   "source": [
    "# hard code in the optimal regularization coefficients to function\n",
    "parameters_l2 = linear_regression_ridge(matrix_data_train,matrix_target_train, 5);\n",
    "parameters_l1, b_l1 = linear_regression_lasso_GD(matrix_data_train,matrix_target_train, .00001);\n",
    "    \n",
    "predictions_l2 = linear_regression_test(matrix_data_test, parameters_l2);\n",
    "predictions_l1 = linear_regression_test_GD(matrix_data_test, parameters_l1, b_l1);\n",
    "predictions_l1 = reshape(predictions_l1, length(predictions_l1), 1);\n",
    "    \n",
    "sorted_test_targets = sort(matrix_target_test, dims=1)\n",
    "sorted_l2_preds = sort(predictions_l2, dims=1)\n",
    "sorted_l1_preds = sort(predictions_l1, dims=1)\n",
    "r_sq_l2 = r_squared(sorted_test_targets, sorted_l2_preds);\n",
    "r_sq_l1 = r_squared(sorted_test_targets, sorted_l1_preds);"
   ]
  },
  {
   "cell_type": "code",
   "execution_count": null,
   "id": "19b5b776",
   "metadata": {},
   "outputs": [],
   "source": []
  },
  {
   "cell_type": "code",
   "execution_count": 90,
   "id": "fea33075",
   "metadata": {},
   "outputs": [],
   "source": [
    "using FileIO\n",
    "using Images"
   ]
  },
  {
   "cell_type": "markdown",
   "id": "0001e5b7",
   "metadata": {},
   "source": [
    "Flat line exists at 1 along the y-axis because our input target values are min-max normalized, meaning the values cannot exceed 1. However, our prediction values can exceed 1 because they are not restrained and follow a regression line. This explains the unusual shape of the qq-plot."
   ]
  },
  {
   "cell_type": "code",
   "execution_count": 92,
   "id": "0127e915",
   "metadata": {},
   "outputs": [
    {
     "data": {
      "image/png": "[encoded data removed]",
      "text/plain": [
       "641×950 Array{RGBA{N0f8},2} with eltype RGBA{N0f8}:\n",
       " RGBA{N0f8}(1.0,1.0,1.0,1.0)  …  RGBA{N0f8}(1.0,1.0,1.0,1.0)\n",
       " RGBA{N0f8}(1.0,1.0,1.0,1.0)     RGBA{N0f8}(1.0,1.0,1.0,1.0)\n",
       " RGBA{N0f8}(1.0,1.0,1.0,1.0)     RGBA{N0f8}(1.0,1.0,1.0,1.0)\n",
       " RGBA{N0f8}(1.0,1.0,1.0,1.0)     RGBA{N0f8}(1.0,1.0,1.0,1.0)\n",
       " RGBA{N0f8}(1.0,1.0,1.0,1.0)     RGBA{N0f8}(1.0,1.0,1.0,1.0)\n",
       " RGBA{N0f8}(1.0,1.0,1.0,1.0)  …  RGBA{N0f8}(1.0,1.0,1.0,1.0)\n",
       " RGBA{N0f8}(1.0,1.0,1.0,1.0)     RGBA{N0f8}(1.0,1.0,1.0,1.0)\n",
       " RGBA{N0f8}(1.0,1.0,1.0,1.0)     RGBA{N0f8}(1.0,1.0,1.0,1.0)\n",
       " RGBA{N0f8}(1.0,1.0,1.0,1.0)     RGBA{N0f8}(1.0,1.0,1.0,1.0)\n",
       " RGBA{N0f8}(1.0,1.0,1.0,1.0)     RGBA{N0f8}(1.0,1.0,1.0,1.0)\n",
       " RGBA{N0f8}(1.0,1.0,1.0,1.0)  …  RGBA{N0f8}(1.0,1.0,1.0,1.0)\n",
       " RGBA{N0f8}(1.0,1.0,1.0,1.0)     RGBA{N0f8}(1.0,1.0,1.0,1.0)\n",
       " RGBA{N0f8}(1.0,1.0,1.0,1.0)     RGBA{N0f8}(1.0,1.0,1.0,1.0)\n",
       " ⋮                            ⋱  \n",
       " RGBA{N0f8}(1.0,1.0,1.0,1.0)     RGBA{N0f8}(1.0,1.0,1.0,1.0)\n",
       " RGBA{N0f8}(1.0,1.0,1.0,1.0)  …  RGBA{N0f8}(1.0,1.0,1.0,1.0)\n",
       " RGBA{N0f8}(1.0,1.0,1.0,1.0)     RGBA{N0f8}(1.0,1.0,1.0,1.0)\n",
       " RGBA{N0f8}(1.0,1.0,1.0,1.0)     RGBA{N0f8}(1.0,1.0,1.0,1.0)\n",
       " RGBA{N0f8}(1.0,1.0,1.0,1.0)     RGBA{N0f8}(1.0,1.0,1.0,1.0)\n",
       " RGBA{N0f8}(1.0,1.0,1.0,1.0)     RGBA{N0f8}(1.0,1.0,1.0,1.0)\n",
       " RGBA{N0f8}(1.0,1.0,1.0,1.0)  …  RGBA{N0f8}(1.0,1.0,1.0,1.0)\n",
       " RGBA{N0f8}(1.0,1.0,1.0,1.0)     RGBA{N0f8}(1.0,1.0,1.0,1.0)\n",
       " RGBA{N0f8}(1.0,1.0,1.0,1.0)     RGBA{N0f8}(1.0,1.0,1.0,1.0)\n",
       " RGBA{N0f8}(1.0,1.0,1.0,1.0)     RGBA{N0f8}(1.0,1.0,1.0,1.0)\n",
       " RGBA{N0f8}(1.0,1.0,1.0,1.0)     RGBA{N0f8}(1.0,1.0,1.0,1.0)\n",
       " RGBA{N0f8}(1.0,1.0,1.0,1.0)  …  RGBA{N0f8}(1.0,1.0,1.0,1.0)"
      ]
     },
     "execution_count": 92,
     "metadata": {},
     "output_type": "execute_result"
    }
   ],
   "source": [
    "img1 = load(\"qqplot_lasso.png\")"
   ]
  },
  {
   "cell_type": "code",
   "execution_count": 95,
   "id": "f24accf6",
   "metadata": {},
   "outputs": [
    {
     "name": "stdout",
     "output_type": "stream",
     "text": [
      "The optimal R squared value for Lasso regression is:0.9046658818867916"
     ]
    }
   ],
   "source": [
    "print(\"The optimal R squared value for Lasso regression is:\", r_sq_l1)"
   ]
  },
  {
   "cell_type": "code",
   "execution_count": null,
   "id": "4947669c",
   "metadata": {},
   "outputs": [],
   "source": []
  },
  {
   "cell_type": "code",
   "execution_count": 94,
   "id": "b4570a69",
   "metadata": {},
   "outputs": [
    {
     "data": {
      "image/png": "[encoded data removed]",
      "text/plain": [
       "643×945 Array{RGBA{N0f8},2} with eltype RGBA{N0f8}:\n",
       " RGBA{N0f8}(0.996,0.996,0.996,1.0)  …  RGBA{N0f8}(0.996,0.996,0.996,1.0)\n",
       " RGBA{N0f8}(0.996,0.996,0.996,1.0)     RGBA{N0f8}(0.996,0.996,0.996,1.0)\n",
       " RGBA{N0f8}(1.0,1.0,1.0,1.0)           RGBA{N0f8}(1.0,1.0,1.0,1.0)\n",
       " RGBA{N0f8}(1.0,1.0,1.0,1.0)           RGBA{N0f8}(1.0,1.0,1.0,1.0)\n",
       " RGBA{N0f8}(1.0,1.0,1.0,1.0)           RGBA{N0f8}(1.0,1.0,1.0,1.0)\n",
       " RGBA{N0f8}(1.0,1.0,1.0,1.0)        …  RGBA{N0f8}(1.0,1.0,1.0,1.0)\n",
       " RGBA{N0f8}(1.0,1.0,1.0,1.0)           RGBA{N0f8}(1.0,1.0,1.0,1.0)\n",
       " RGBA{N0f8}(1.0,1.0,1.0,1.0)           RGBA{N0f8}(1.0,1.0,1.0,1.0)\n",
       " RGBA{N0f8}(1.0,1.0,1.0,1.0)           RGBA{N0f8}(1.0,1.0,1.0,1.0)\n",
       " RGBA{N0f8}(1.0,1.0,1.0,1.0)           RGBA{N0f8}(1.0,1.0,1.0,1.0)\n",
       " RGBA{N0f8}(1.0,1.0,1.0,1.0)        …  RGBA{N0f8}(1.0,1.0,1.0,1.0)\n",
       " RGBA{N0f8}(1.0,1.0,1.0,1.0)           RGBA{N0f8}(1.0,1.0,1.0,1.0)\n",
       " RGBA{N0f8}(1.0,1.0,1.0,1.0)           RGBA{N0f8}(1.0,1.0,1.0,1.0)\n",
       " ⋮                                  ⋱  \n",
       " RGBA{N0f8}(1.0,1.0,1.0,1.0)           RGBA{N0f8}(1.0,1.0,1.0,1.0)\n",
       " RGBA{N0f8}(1.0,1.0,1.0,1.0)           RGBA{N0f8}(1.0,1.0,1.0,1.0)\n",
       " RGBA{N0f8}(1.0,1.0,1.0,1.0)           RGBA{N0f8}(1.0,1.0,1.0,1.0)\n",
       " RGBA{N0f8}(1.0,1.0,1.0,1.0)           RGBA{N0f8}(1.0,1.0,1.0,1.0)\n",
       " RGBA{N0f8}(1.0,1.0,1.0,1.0)        …  RGBA{N0f8}(1.0,1.0,1.0,1.0)\n",
       " RGBA{N0f8}(1.0,1.0,1.0,1.0)           RGBA{N0f8}(1.0,1.0,1.0,1.0)\n",
       " RGBA{N0f8}(1.0,1.0,1.0,1.0)           RGBA{N0f8}(1.0,1.0,1.0,1.0)\n",
       " RGBA{N0f8}(1.0,1.0,1.0,1.0)           RGBA{N0f8}(1.0,1.0,1.0,1.0)\n",
       " RGBA{N0f8}(1.0,1.0,1.0,1.0)           RGBA{N0f8}(1.0,1.0,1.0,1.0)\n",
       " RGBA{N0f8}(1.0,1.0,1.0,1.0)        …  RGBA{N0f8}(1.0,1.0,1.0,1.0)\n",
       " RGBA{N0f8}(1.0,1.0,1.0,1.0)           RGBA{N0f8}(1.0,1.0,1.0,1.0)\n",
       " RGBA{N0f8}(1.0,1.0,1.0,1.0)           RGBA{N0f8}(1.0,1.0,1.0,1.0)"
      ]
     },
     "execution_count": 94,
     "metadata": {},
     "output_type": "execute_result"
    }
   ],
   "source": [
    "img2 = load(\"qqplot_ridge.png\")"
   ]
  },
  {
   "cell_type": "code",
   "execution_count": 96,
   "id": "7e5fbf3e",
   "metadata": {},
   "outputs": [
    {
     "name": "stdout",
     "output_type": "stream",
     "text": [
      "The optimal R squared value for Ridge regression is:0.8722628864709415"
     ]
    }
   ],
   "source": [
    "print(\"The optimal R squared value for Ridge regression is:\", r_sq_l2)"
   ]
  },
  {
   "cell_type": "code",
   "execution_count": null,
   "id": "c64e6a78",
   "metadata": {},
   "outputs": [],
   "source": []
  },
  {
   "cell_type": "code",
   "execution_count": 55,
   "id": "d0740210",
   "metadata": {},
   "outputs": [],
   "source": [
    "#calculating conditioning of our algorithms using the optimal lambda values\n",
    "k_ridge = ridge_conditioning(matrix_data_train,matrix_target_train,5);\n",
    "k_lasso = lasso_gd_conditioning(matrix_data_train,matrix_target_train,.00001);"
   ]
  },
  {
   "cell_type": "code",
   "execution_count": 56,
   "id": "f92ca088",
   "metadata": {},
   "outputs": [
    {
     "data": {
      "text/plain": [
       "1×10 adjoint(::Vector{Float64}) with eltype Float64:\n",
       " 1.0  1.0  42455.3  1.0  42463.3  3258.34  1.26766  977.901  3.34407  20.9835"
      ]
     },
     "execution_count": 56,
     "metadata": {},
     "output_type": "execute_result"
    }
   ],
   "source": [
    "k_ridge'"
   ]
  },
  {
   "cell_type": "code",
   "execution_count": 57,
   "id": "f17a1670",
   "metadata": {},
   "outputs": [
    {
     "data": {
      "text/plain": [
       "1×265088000 adjoint(::Vector{Float64}) with eltype Float64:\n",
       " NaN  NaN  NaN  NaN  NaN  NaN  NaN  NaN  …  1.0  1.0  1.50948  1.0  0.530371"
      ]
     },
     "execution_count": 57,
     "metadata": {},
     "output_type": "execute_result"
    }
   ],
   "source": [
    "k_lasso'"
   ]
  },
  {
   "cell_type": "code",
   "execution_count": 80,
   "id": "620a6012",
   "metadata": {},
   "outputs": [
    {
     "name": "stdout",
     "output_type": "stream",
     "text": [
      "Conditioning values for operations in ridge regression\n",
      "1.0\n",
      "1.0\n",
      "42455.25525287322\n",
      "1.0\n",
      "42463.25525287322\n",
      "3258.342319248199\n",
      "1.2676551061091732\n",
      "977.9007528176628\n",
      "3.344068051515611\n",
      "20.9834573440929\n",
      "\n",
      "Thus we can see ridge regression has no ill conditioned steps and is a stable algorithm.\n"
     ]
    }
   ],
   "source": [
    "print(\"Conditioning values for operations in ridge regression\\n\")\n",
    "for i in k_ridge\n",
    "    \n",
    "   println(i)\n",
    "    \n",
    "end\n",
    "\n",
    "println(\"\\nThus we can see ridge regression has no ill conditioned steps and is a stable algorithm.\")"
   ]
  },
  {
   "cell_type": "code",
   "execution_count": 77,
   "id": "7259918e",
   "metadata": {},
   "outputs": [
    {
     "name": "stdout",
     "output_type": "stream",
     "text": [
      "Conditioning values for operations in lasso regression\n",
      "The number of ill conditioned steps in our gradient descent implementation of lasso is: 33024\n",
      "The number of well conditioned steps in our gradient descent implementation of lasso is: 265054976\n",
      "So it is more indicative to look at the proportion of ill conditioned steps: 0.00012457749879285368\n",
      "However, this implementation of lasso regression is still ill conditioned since it contains ill conditioned steps\n"
     ]
    }
   ],
   "source": [
    "print(\"Conditioning values for operations in lasso regression\\n\")\n",
    "nanCount = count(i->(isnan(i)), k_lasso)\n",
    "nonnanCount = length(k_lasso) - nanCount\n",
    "println(\"The number of ill conditioned steps in our gradient descent implementation of lasso is: \", nanCount)\n",
    "println(\"The number of well conditioned steps in our gradient descent implementation of lasso is: \", nonnanCount)\n",
    "println(\"So it is more indicative to look at the proportion of ill conditioned steps: \", nanCount / length(k_lasso))\n",
    "println(\"However, this implementation of lasso regression is still ill conditioned since it contains ill conditioned steps\")"
   ]
  },
  {
   "cell_type": "code",
   "execution_count": null,
   "id": "4f886ed5",
   "metadata": {},
   "outputs": [],
   "source": []
  },
  {
   "cell_type": "markdown",
   "id": "70126167",
   "metadata": {},
   "source": [
    "## Conclusion"
   ]
  },
  {
   "cell_type": "markdown",
   "id": "fc47777d",
   "metadata": {},
   "source": [
    "|   | Time Complexity | Space Complexity | Flop Count| Conditioning |\n",
    "| :----------- | :----------- | :----------- | :----------- |:----------- |\n",
    "| Ridge  |$ O(n^3) + O(m^2n) + O(n^2m) $ | $O(n^2) +O(nm)$ | $\\frac{5}{6}n^3 + (\\frac{9}{2}+m)n^2 + nm^2 + (\\frac{5}{6}m)n + m$     | Well Conditioned |\n",
    "| Lasso  |$ O(mni)$ |$  O(m^2i) + O(mni)     $|  $i(2mn + 3m + 3n + 6)$   |Ill Conditioned|\n",
    "| Preferred Algorithm |  Lasso (Unless i > m > n)   |  Ridge (When m > n)   | Lasso (Unless: i > m > n) | |"
   ]
  },
  {
   "cell_type": "markdown",
   "id": "131277b9",
   "metadata": {},
   "source": [
    "Our results show that Lasso Regression is the better algorithm when it comes to Time Complexity when the number of iterations of the lasso regression (i) is less than the number of rows (m) and columns (n) from the input data. This is because the term of $O(nm^2)$ in the Ridge regression will be its largest term when m > n (normal case), which would be greater than $O(mn*i)$. However, in cases where \"i\" is large, ridge regression will outperform lasso in time complexity.\n",
    "\n",
    "When it comes to Space Complexity, Ridge regression uses less memory when the number of data points in the input matrix (m) is greater than the number of features. This should occur for most cases.\n",
    "\n",
    "In addition, Lasso and Ridge appear to be similar when it comes to floating point operations. If the number of rows is a larger value than n or i, Lasso will easily calculate less FLOPS due to not needing to use Gaussian Elimination to find the inverse of a large matrix. However, if the number of iterations (i) is larger than the number of rows (m), and the number of rows is greater than the number of features (n), the ridge regression will perform fewer floating point operations.\n",
    "\n",
    "Complexity Results:\n",
    "\n",
    "Lasso regression beats ridge regression in time complexity and the number of floating point operations it computes when its number of iterations (i) is lower than the number of data entries (m). Otherwise, Ridge regression wins on Time, Space, and Number of Flops.\n",
    "\n",
    "Also, in all cases except where the number of data features is greater than data entries (not common), ridge regression will use significantly less space than lasso regression."
   ]
  },
  {
   "cell_type": "markdown",
   "id": "9b258ad9",
   "metadata": {},
   "source": []
  },
  {
   "cell_type": "markdown",
   "id": "cf08a5c6",
   "metadata": {},
   "source": [
    "Thus we have shown in this presentation the differences in our algorithms that we could potentially use in estimating the values of homes. We see that there exist both pro's and con's for both ridge and lasso regression. These techniques are implementations of the Bayesian approach of maximizing a posterior probability. So, one of the deciding factors of the choice of the algorithm we should implement in estimating home prices should be determined by the prior distributions of home values. This prior distribution could change depending on factors outside of what we tested for (outside of California). We show that the prior distribution in California follows more closely to a poisson distribution over a Gaussian since the performance of Lasso was slightly better than that of Ridge. Therefore for California price housing estimation, we would choose Lasso over ridge since the differences in algorithmic performance show higher accuracy for lasso, and better time complexity and flop counts under most circumstances. Although, with this choice, we must keep in mind that the gradient descent implementation of Lasso regression is an ill-conditioned algorithm. This implies we must be careful with the data in which we pass, further implying we should always normalize or standardize the input data that way we avoid the exploding gradient problem."
   ]
  },
  {
   "cell_type": "markdown",
   "id": "22e16c99",
   "metadata": {},
   "source": []
  }
 ],
 "metadata": {
  "kernelspec": {
   "display_name": "Julia 1.7.2",
   "language": "julia",
   "name": "julia-1.7"
  },
  "language_info": {
   "file_extension": ".jl",
   "mimetype": "application/julia",
   "name": "julia",
   "version": "1.7.2"
  }
 },
 "nbformat": 4,
 "nbformat_minor": 5
}
