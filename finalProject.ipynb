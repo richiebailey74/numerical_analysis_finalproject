{
 "cells": [
  {
   "cell_type": "markdown",
   "id": "b606520d",
   "metadata": {},
   "source": [
    "# Numerical Analysis Final Project: Lasso vs Ridge Regression"
   ]
  },
  {
   "cell_type": "code",
   "execution_count": 1,
   "id": "9a3a01de",
   "metadata": {},
   "outputs": [],
   "source": [
    "using Pkg\n",
    "using Pandas\n",
    "using LinearAlgebra"
   ]
  },
  {
   "cell_type": "markdown",
   "id": "21e3d701",
   "metadata": {},
   "source": [
    "## Import data"
   ]
  },
  {
   "cell_type": "code",
   "execution_count": 8,
   "id": "a2de6fb6",
   "metadata": {},
   "outputs": [],
   "source": [
    "df = read_csv(\"median_housing_cost_data.tsv\", sep=\"\\t\");\n",
    "df_targ = read_csv(\"housing_cost_targets.tsv\", sep=\"\\t\");"
   ]
  },
  {
   "cell_type": "code",
   "execution_count": 3,
   "id": "82afa2c5",
   "metadata": {},
   "outputs": [
    {
     "data": {
      "text/html": [
       "Unnamed: 0    20639.000000\n",
       "MedInc            2.388600\n",
       "HouseAge         16.000000\n",
       "AveRooms          5.254717\n",
       "AveBedrms         1.162264\n",
       "Population     1387.000000\n",
       "AveOccup          2.616981\n",
       "Latitude         39.370000\n",
       "Longitude      -121.240000\n",
       "Name: 20639, dtype: float64\n"
      ],
      "text/plain": [
       "Unnamed: 0    20639.000000\n",
       "MedInc            2.388600\n",
       "HouseAge         16.000000\n",
       "AveRooms          5.254717\n",
       "AveBedrms         1.162264\n",
       "Population     1387.000000\n",
       "AveOccup          2.616981\n",
       "Latitude         39.370000\n",
       "Longitude      -121.240000\n",
       "Name: 20639, dtype: float64\n"
      ]
     },
     "execution_count": 3,
     "metadata": {},
     "output_type": "execute_result"
    }
   ],
   "source": [
    "x = iloc(df)[0]"
   ]
  },
  {
   "cell_type": "markdown",
   "id": "75200bd4",
   "metadata": {},
   "source": [
    "## Motivating factor"
   ]
  },
  {
   "cell_type": "code",
   "execution_count": 4,
   "id": "cdef5f46",
   "metadata": {},
   "outputs": [],
   "source": [
    "# talk about median household costs and how maximizing posterior probabilities to estimate cost is goal"
   ]
  },
  {
   "cell_type": "code",
   "execution_count": null,
   "id": "69eb3bcb",
   "metadata": {},
   "outputs": [],
   "source": []
  },
  {
   "cell_type": "code",
   "execution_count": null,
   "id": "0a6742e3",
   "metadata": {},
   "outputs": [],
   "source": []
  },
  {
   "cell_type": "markdown",
   "id": "addc8dd1",
   "metadata": {},
   "source": [
    "## Regression tasks derived from maximizing posterior probabilities"
   ]
  },
  {
   "cell_type": "code",
   "execution_count": null,
   "id": "31b41861",
   "metadata": {},
   "outputs": [],
   "source": []
  },
  {
   "cell_type": "code",
   "execution_count": null,
   "id": "37843f87",
   "metadata": {},
   "outputs": [],
   "source": []
  },
  {
   "cell_type": "code",
   "execution_count": null,
   "id": "f501813e",
   "metadata": {},
   "outputs": [],
   "source": []
  },
  {
   "cell_type": "markdown",
   "id": "80429285",
   "metadata": {},
   "source": [
    "## Solutions to regression tasks"
   ]
  },
  {
   "cell_type": "code",
   "execution_count": null,
   "id": "768dcb40",
   "metadata": {},
   "outputs": [],
   "source": []
  },
  {
   "cell_type": "code",
   "execution_count": null,
   "id": "ec865fdb",
   "metadata": {},
   "outputs": [],
   "source": []
  },
  {
   "cell_type": "code",
   "execution_count": null,
   "id": "db72868a",
   "metadata": {},
   "outputs": [],
   "source": []
  },
  {
   "cell_type": "code",
   "execution_count": null,
   "id": "20571f23",
   "metadata": {},
   "outputs": [],
   "source": []
  },
  {
   "cell_type": "markdown",
   "id": "4a2bf9dc",
   "metadata": {},
   "source": [
    "## Code solutions for regression tasks"
   ]
  },
  {
   "cell_type": "code",
   "execution_count": 5,
   "id": "e64bab2d",
   "metadata": {},
   "outputs": [
    {
     "data": {
      "text/plain": [
       "linear_regression_ridge (generic function with 1 method)"
      ]
     },
     "execution_count": 5,
     "metadata": {},
     "output_type": "execute_result"
    }
   ],
   "source": [
    "function linear_regression_ridge(X,y,lambda)\n",
    "    \n",
    "    s = size(X)[1]\n",
    "    Im =1* Matrix(I, s, s)\n",
    "    \n",
    "    w = inv(transpose(X)*X + lambda*Im) * transpose(X) * y\n",
    "    \n",
    "    pred = X * w\n",
    "    \n",
    "    err = y - pred\n",
    "    \n",
    "    return w, pred, err    \n",
    "    \n",
    "end"
   ]
  },
  {
   "cell_type": "code",
   "execution_count": 10,
   "id": "23f1f0bb",
   "metadata": {},
   "outputs": [
    {
     "data": {
      "text/plain": [
       "linear_regression_lasso (generic function with 1 method)"
      ]
     },
     "execution_count": 10,
     "metadata": {},
     "output_type": "execute_result"
    }
   ],
   "source": [
    "function linear_regression_lasso(X,y,lambda)\n",
    "    \n",
    "    moore_pen = inv(transpose(X)*X) * transpose(X)\n",
    "    w = moore_pen * y\n",
    "    \n",
    "    w_lasso = sign.(w) .* (abs.(w) .- lambda)\n",
    "    \n",
    "    pred = X * w_lasso\n",
    "    \n",
    "    err = y - pred\n",
    "    \n",
    "    return w_lasso, pred, err\n",
    "    \n",
    "end"
   ]
  },
  {
   "cell_type": "code",
   "execution_count": 7,
   "id": "0a01c4e3",
   "metadata": {},
   "outputs": [
    {
     "data": {
      "text/plain": [
       "linear_regression_test (generic function with 1 method)"
      ]
     },
     "execution_count": 7,
     "metadata": {},
     "output_type": "execute_result"
    }
   ],
   "source": [
    "function linear_regression_test(X,w)\n",
    "    \n",
    "    pred = X * w\n",
    "    \n",
    "    return pred\n",
    "    \n",
    "end"
   ]
  },
  {
   "cell_type": "code",
   "execution_count": null,
   "id": "5a9bb10a",
   "metadata": {},
   "outputs": [],
   "source": []
  },
  {
   "cell_type": "code",
   "execution_count": null,
   "id": "dbf36886",
   "metadata": {},
   "outputs": [],
   "source": []
  },
  {
   "cell_type": "markdown",
   "id": "ff64eaf9",
   "metadata": {},
   "source": [
    "## Analysis of algorithms: conditioning, complexities, and flop counts"
   ]
  },
  {
   "cell_type": "code",
   "execution_count": null,
   "id": "ccd077e6",
   "metadata": {},
   "outputs": [],
   "source": []
  },
  {
   "cell_type": "code",
   "execution_count": null,
   "id": "fcb526fb",
   "metadata": {},
   "outputs": [],
   "source": []
  },
  {
   "cell_type": "code",
   "execution_count": null,
   "id": "4ad50977",
   "metadata": {},
   "outputs": [],
   "source": []
  },
  {
   "cell_type": "markdown",
   "id": "71304cb4",
   "metadata": {},
   "source": [
    "## Perform regression tasks on data"
   ]
  },
  {
   "cell_type": "code",
   "execution_count": null,
   "id": "d6586a84",
   "metadata": {},
   "outputs": [],
   "source": []
  },
  {
   "cell_type": "code",
   "execution_count": null,
   "id": "1a6ad3c9",
   "metadata": {},
   "outputs": [],
   "source": []
  },
  {
   "cell_type": "code",
   "execution_count": null,
   "id": "0b86589a",
   "metadata": {},
   "outputs": [],
   "source": []
  },
  {
   "cell_type": "markdown",
   "id": "e81a3836",
   "metadata": {},
   "source": [
    "## Evaluation of algorithm performance"
   ]
  },
  {
   "cell_type": "code",
   "execution_count": null,
   "id": "67a323bc",
   "metadata": {},
   "outputs": [],
   "source": []
  },
  {
   "cell_type": "code",
   "execution_count": null,
   "id": "3da3ab80",
   "metadata": {},
   "outputs": [],
   "source": []
  },
  {
   "cell_type": "code",
   "execution_count": null,
   "id": "ad7e6389",
   "metadata": {},
   "outputs": [],
   "source": []
  },
  {
   "cell_type": "markdown",
   "id": "70126167",
   "metadata": {},
   "source": [
    "## Conclusion"
   ]
  },
  {
   "cell_type": "code",
   "execution_count": null,
   "id": "80172b1b",
   "metadata": {},
   "outputs": [],
   "source": []
  },
  {
   "cell_type": "code",
   "execution_count": null,
   "id": "4dcb8561",
   "metadata": {},
   "outputs": [],
   "source": []
  },
  {
   "cell_type": "code",
   "execution_count": null,
   "id": "e78531dc",
   "metadata": {},
   "outputs": [],
   "source": []
  },
  {
   "cell_type": "code",
   "execution_count": null,
   "id": "f600bcc4",
   "metadata": {},
   "outputs": [],
   "source": []
  }
 ],
 "metadata": {
  "kernelspec": {
   "display_name": "Julia 1.7.2",
   "language": "julia",
   "name": "julia-1.7"
  },
  "language_info": {
   "file_extension": ".jl",
   "mimetype": "application/julia",
   "name": "julia",
   "version": "1.7.2"
  }
 },
 "nbformat": 4,
 "nbformat_minor": 5
}
