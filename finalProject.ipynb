{
 "cells": [
  {
   "cell_type": "markdown",
   "id": "b606520d",
   "metadata": {},
   "source": [
    "# Numerical Analysis Final Project: Lasso vs Ridge Regression"
   ]
  },
  {
   "cell_type": "code",
   "execution_count": 2,
   "id": "31b89f26",
   "metadata": {},
   "outputs": [
    {
     "name": "stderr",
     "output_type": "stream",
     "text": [
      "\u001b[32m\u001b[1m    Updating\u001b[22m\u001b[39m registry at `C:\\Users\\Kingston\\.julia\\registries\\General.toml`\n",
      "\u001b[32m\u001b[1m   Resolving\u001b[22m\u001b[39m package versions...\n",
      "\u001b[32m\u001b[1m   Installed\u001b[22m\u001b[39m TableTraitsUtils ─ v1.0.2\n",
      "\u001b[32m\u001b[1m   Installed\u001b[22m\u001b[39m DataValues ─────── v0.4.13\n",
      "\u001b[32m\u001b[1m   Installed\u001b[22m\u001b[39m Lazy ───────────── v0.15.1\n",
      "\u001b[32m\u001b[1m   Installed\u001b[22m\u001b[39m Pandas ─────────── v1.5.3\n",
      "\u001b[32m\u001b[1m   Installed\u001b[22m\u001b[39m PyCall ─────────── v1.93.1\n",
      "\u001b[32m\u001b[1m    Updating\u001b[22m\u001b[39m `C:\\Users\\Kingston\\.julia\\environments\\v1.7\\Project.toml`\n",
      " \u001b[90m [eadc2687] \u001b[39m\u001b[92m+ Pandas v1.5.3\u001b[39m\n",
      "\u001b[32m\u001b[1m    Updating\u001b[22m\u001b[39m `C:\\Users\\Kingston\\.julia\\environments\\v1.7\\Manifest.toml`\n",
      " \u001b[90m [e7dc6d0d] \u001b[39m\u001b[92m+ DataValues v0.4.13\u001b[39m\n",
      " \u001b[90m [50d2b5c4] \u001b[39m\u001b[92m+ Lazy v0.15.1\u001b[39m\n",
      " \u001b[90m [eadc2687] \u001b[39m\u001b[92m+ Pandas v1.5.3\u001b[39m\n",
      " \u001b[90m [438e738f] \u001b[39m\u001b[92m+ PyCall v1.93.1\u001b[39m\n",
      " \u001b[90m [382cd787] \u001b[39m\u001b[92m+ TableTraitsUtils v1.0.2\u001b[39m\n",
      "\u001b[32m\u001b[1m    Building\u001b[22m\u001b[39m PyCall → `C:\\Users\\Kingston\\.julia\\scratchspaces\\44cfe95a-1eb2-52ea-b672-e2afdf69b78f\\1fc929f47d7c151c839c5fc1375929766fb8edcc\\build.log`\n",
      "\u001b[32m\u001b[1mPrecompiling\u001b[22m\u001b[39m project...\n",
      "\u001b[32m  ✓ \u001b[39m\u001b[90mDataValues\u001b[39m\n",
      "\u001b[32m  ✓ \u001b[39m\u001b[90mTableTraitsUtils\u001b[39m\n",
      "\u001b[32m  ✓ \u001b[39m\u001b[90mLazy\u001b[39m\n",
      "\u001b[32m  ✓ \u001b[39m\u001b[90mPyCall\u001b[39m\n",
      "\u001b[32m  ✓ \u001b[39mPandas\n",
      "  5 dependencies successfully precompiled in 9 seconds (156 already precompiled, 3 skipped during auto due to previous errors)\n"
     ]
    }
   ],
   "source": [
    "import Pkg\n",
    "Pkg.add(\"Pandas\")"
   ]
  },
  {
   "cell_type": "code",
   "execution_count": 3,
   "id": "9a3a01de",
   "metadata": {},
   "outputs": [
    {
     "name": "stdout",
     "output_type": "stream",
     "text": [
      "Collecting package metadata (current_repodata.json): ...working... done\r\n",
      "Solving environment: ...working... done\r\n",
      "\r\n",
      "## Package Plan ##\r\n",
      "\r\n",
      "  environment location: C:\\Users\\Kingston\\.julia\\conda\\3\r\n",
      "\r\n",
      "  added / updated specs:\r\n",
      "    - pandas\r\n",
      "\r\n",
      "\r\n",
      "The following packages will be downloaded:\r\n",
      "\r\n",
      "    package                    |            build\r\n",
      "    ---------------------------|-----------------\r\n",
      "    pandas-1.4.2               |   py39h2e25243_1        11.0 MB  conda-forge\r\n",
      "    python-dateutil-2.8.2      |     pyhd8ed1ab_0         240 KB  conda-forge\r\n",
      "    pytz-2022.1                |     pyhd8ed1ab_0         242 KB  conda-forge\r\n",
      "    ------------------------------------------------------------\r\n",
      "                                           Total:        11.5 MB\r\n",
      "\r\n",
      "The following NEW packages will be INSTALLED:\r\n",
      "\r\n",
      "  pandas             conda-forge/win-64::pandas-1.4.2-py39h2e25243_1\r\n",
      "  python-dateutil    conda-forge/noarch::python-dateutil-2.8.2-pyhd8ed1ab_0\r\n",
      "  pytz               conda-forge/noarch::pytz-2022.1-pyhd8ed1ab_0\r\n",
      "\r\n",
      "\r\n",
      "\r\n",
      "Downloading and Extracting Packages\r\n",
      "\r",
      "pandas-1.4.2         | 11.0 MB   |            |   0% \r",
      "pandas-1.4.2         | 11.0 MB   |            |   0% \r",
      "pandas-1.4.2         | 11.0 MB   | #1         |  12% \r",
      "pandas-1.4.2         | 11.0 MB   | ##6        |  27% \r",
      "pandas-1.4.2         | 11.0 MB   | ####1      |  42% \r",
      "pandas-1.4.2         | 11.0 MB   | #####6     |  57% \r",
      "pandas-1.4.2         | 11.0 MB   | ######9    |  70% \r",
      "pandas-1.4.2         | 11.0 MB   | ########3  |  83% \r",
      "pandas-1.4.2         | 11.0 MB   | #########7 |  98% \r",
      "pandas-1.4.2         | 11.0 MB   | ########## | 100% \r\n",
      "\r",
      "python-dateutil-2.8. | 240 KB    |            |   0% \r",
      "python-dateutil-2.8. | 240 KB    | ########## | 100% \r",
      "python-dateutil-2.8. | 240 KB    | ########## | 100% \r\n",
      "\r",
      "pytz-2022.1          | 242 KB    |            |   0% \r",
      "pytz-2022.1          | 242 KB    | ########## | 100% \r",
      "pytz-2022.1          | 242 KB    | ########## | 100% \r\n",
      "Preparing transaction: ...working... done\r\n",
      "Verifying transaction: ...working... done\r\n",
      "Executing transaction: ...working... done\r\n"
     ]
    },
    {
     "name": "stderr",
     "output_type": "stream",
     "text": [
      "┌ Info: Installing pandas via the Conda pandas package...\n",
      "└ @ PyCall C:\\Users\\Kingston\\.julia\\packages\\PyCall\\7a7w0\\src\\PyCall.jl:711\n",
      "┌ Info: Running `conda install -y pandas` in root environment\n",
      "└ @ Conda C:\\Users\\Kingston\\.julia\\packages\\Conda\\1403Y\\src\\Conda.jl:129\n"
     ]
    }
   ],
   "source": [
    "using Pkg\n",
    "using Pandas\n",
    "using LinearAlgebra"
   ]
  },
  {
   "cell_type": "code",
   "execution_count": null,
   "id": "05d583f0",
   "metadata": {},
   "outputs": [],
   "source": []
  },
  {
   "cell_type": "markdown",
   "id": "21e3d701",
   "metadata": {},
   "source": [
    "## Import data"
   ]
  },
  {
   "cell_type": "code",
   "execution_count": 4,
   "id": "a2de6fb6",
   "metadata": {},
   "outputs": [],
   "source": [
    "df = read_csv(\"median_housing_cost_data.tsv\", sep=\"\\t\");"
   ]
  },
  {
   "cell_type": "code",
   "execution_count": 5,
   "id": "82afa2c5",
   "metadata": {},
   "outputs": [
    {
     "data": {
      "text/html": [
       "Unnamed: 0    20639.000000\n",
       "MedInc            2.388600\n",
       "HouseAge         16.000000\n",
       "AveRooms          5.254717\n",
       "AveBedrms         1.162264\n",
       "Population     1387.000000\n",
       "AveOccup          2.616981\n",
       "Latitude         39.370000\n",
       "Longitude      -121.240000\n",
       "Name: 20639, dtype: float64\n"
      ],
      "text/plain": [
       "Unnamed: 0    20639.000000\n",
       "MedInc            2.388600\n",
       "HouseAge         16.000000\n",
       "AveRooms          5.254717\n",
       "AveBedrms         1.162264\n",
       "Population     1387.000000\n",
       "AveOccup          2.616981\n",
       "Latitude         39.370000\n",
       "Longitude      -121.240000\n",
       "Name: 20639, dtype: float64\n"
      ]
     },
     "execution_count": 5,
     "metadata": {},
     "output_type": "execute_result"
    }
   ],
   "source": [
    "x = iloc(df)[0]"
   ]
  },
  {
   "cell_type": "code",
   "execution_count": null,
   "id": "63f85459",
   "metadata": {},
   "outputs": [],
   "source": []
  },
  {
   "cell_type": "markdown",
   "id": "75200bd4",
   "metadata": {},
   "source": [
    "## Motivating factor"
   ]
  },
  {
   "cell_type": "code",
   "execution_count": null,
   "id": "cdef5f46",
   "metadata": {},
   "outputs": [],
   "source": [
    "# talk about median household costs and how maximizing posterior probabilities to estimate cost is goal"
   ]
  },
  {
   "cell_type": "code",
   "execution_count": null,
   "id": "69eb3bcb",
   "metadata": {},
   "outputs": [],
   "source": []
  },
  {
   "cell_type": "code",
   "execution_count": null,
   "id": "0a6742e3",
   "metadata": {},
   "outputs": [],
   "source": []
  },
  {
   "cell_type": "markdown",
   "id": "addc8dd1",
   "metadata": {},
   "source": [
    "## Regression tasks derived from maximizing posterior probabilities"
   ]
  },
  {
   "cell_type": "code",
   "execution_count": null,
   "id": "31b41861",
   "metadata": {},
   "outputs": [],
   "source": []
  },
  {
   "cell_type": "code",
   "execution_count": null,
   "id": "37843f87",
   "metadata": {},
   "outputs": [],
   "source": []
  },
  {
   "cell_type": "code",
   "execution_count": null,
   "id": "f501813e",
   "metadata": {},
   "outputs": [],
   "source": []
  },
  {
   "cell_type": "markdown",
   "id": "80429285",
   "metadata": {},
   "source": [
    "## Solutions to regression tasks"
   ]
  },
  {
   "cell_type": "code",
   "execution_count": null,
   "id": "768dcb40",
   "metadata": {},
   "outputs": [],
   "source": []
  },
  {
   "cell_type": "code",
   "execution_count": null,
   "id": "ec865fdb",
   "metadata": {},
   "outputs": [],
   "source": []
  },
  {
   "cell_type": "code",
   "execution_count": null,
   "id": "db72868a",
   "metadata": {},
   "outputs": [],
   "source": []
  },
  {
   "cell_type": "code",
   "execution_count": null,
   "id": "20571f23",
   "metadata": {},
   "outputs": [],
   "source": []
  },
  {
   "cell_type": "markdown",
   "id": "4a2bf9dc",
   "metadata": {},
   "source": [
    "## Code solutions for regression tasks"
   ]
  },
  {
   "cell_type": "code",
   "execution_count": 49,
   "id": "e64bab2d",
   "metadata": {},
   "outputs": [
    {
     "data": {
      "text/plain": [
       "linear_regression_ridge (generic function with 1 method)"
      ]
     },
     "execution_count": 49,
     "metadata": {},
     "output_type": "execute_result"
    }
   ],
   "source": [
    "function linear_regression_ridge(X,y,lambda)\n",
    "    \n",
    "    s = size(X)[1]\n",
    "    Im =1 * Matrix(I, s, s)\n",
    "    \n",
    "    w = inv(transpose(X)*X + lambda*Im) * transpose(X) * y\n",
    "    \n",
    "    pred = X * w\n",
    "    \n",
    "    err = y - pred\n",
    "    \n",
    "    return w, pred, err    \n",
    "    \n",
    "end"
   ]
  },
  {
   "cell_type": "code",
   "execution_count": null,
   "id": "23f1f0bb",
   "metadata": {},
   "outputs": [],
   "source": [
    "function linear_regression_lasso(X,y,lambda)\n",
    "    \n",
    "    \n",
    "end"
   ]
  },
  {
   "cell_type": "code",
   "execution_count": 6,
   "id": "0a01c4e3",
   "metadata": {},
   "outputs": [
    {
     "data": {
      "text/plain": [
       "linear_regression_test (generic function with 1 method)"
      ]
     },
     "execution_count": 6,
     "metadata": {},
     "output_type": "execute_result"
    }
   ],
   "source": [
    "function linear_regression_test(X,w)\n",
    "    pred = X * w\n",
    "    return pred\n",
    "end"
   ]
  },
  {
   "cell_type": "code",
   "execution_count": null,
   "id": "5a9bb10a",
   "metadata": {},
   "outputs": [],
   "source": []
  },
  {
   "cell_type": "code",
   "execution_count": null,
   "id": "dbf36886",
   "metadata": {},
   "outputs": [],
   "source": []
  },
  {
   "cell_type": "markdown",
   "id": "ff64eaf9",
   "metadata": {},
   "source": [
    "## Analysis of algorithms: conditioning, complexities, and flop counts"
   ]
  },
  {
   "cell_type": "code",
   "execution_count": null,
   "id": "9464c077",
   "metadata": {},
   "outputs": [],
   "source": [
    "# Time Complexity Calculation"
   ]
  },
  {
   "cell_type": "code",
   "execution_count": null,
   "id": "ccd077e6",
   "metadata": {},
   "outputs": [],
   "source": [
    "# Complexity of Ridge Regression"
   ]
  },
  {
   "cell_type": "code",
   "execution_count": null,
   "id": "7f924f45",
   "metadata": {},
   "outputs": [],
   "source": [
    "function linear_regression_ridge(X,y,lambda) # Size of X is n x m\n",
    "    s  = size(X)[1]                          # O(n) or O(1)?\n",
    "    Im = 1 * Matrix(I, s, s)                 # O(n^2)\n",
    "    xT = transpose(X)                        # O(n^2), O(n) <https://ieeexplore.ieee.org/document/6131813>, or O(1) ??? \n",
    "    xT_lambda = (xT * X) + (lambda * Im)     # Matrix Multiplication = O(n*m*p) or O(n^3) (square)\n",
    "    inverse = inv(xT_lambda)                 # Inverse: O(???)\n",
    "    w = inverse * xT * y                     # Matrix Multiplication = O(n*m*p) or O(n^3) (x2) \n",
    "    pred = X * w                             # Matrix Multiplication = O(n^3)\n",
    "    err = y - pred                           # Matrix Subtraction O(n^2)\n",
    "    \n",
    "    return w, pred, err                      # O(1)\n",
    "end\n",
    "\n",
    "# Total Time Complexity = O(n^3) (Most Likely)"
   ]
  },
  {
   "cell_type": "code",
   "execution_count": null,
   "id": "fcb526fb",
   "metadata": {},
   "outputs": [],
   "source": [
    "# Space Complexity Calculation"
   ]
  },
  {
   "cell_type": "code",
   "execution_count": null,
   "id": "4ad50977",
   "metadata": {},
   "outputs": [],
   "source": []
  },
  {
   "cell_type": "code",
   "execution_count": null,
   "id": "7081be4b",
   "metadata": {},
   "outputs": [],
   "source": [
    "# Flop Count Calculation"
   ]
  },
  {
   "cell_type": "code",
   "execution_count": null,
   "id": "34fb61cb",
   "metadata": {},
   "outputs": [],
   "source": []
  },
  {
   "cell_type": "code",
   "execution_count": null,
   "id": "4a63e7f6",
   "metadata": {},
   "outputs": [],
   "source": [
    "# Conditioning of Algorithm"
   ]
  },
  {
   "cell_type": "code",
   "execution_count": null,
   "id": "7e096279",
   "metadata": {},
   "outputs": [],
   "source": []
  },
  {
   "cell_type": "code",
   "execution_count": null,
   "id": "221ec473",
   "metadata": {},
   "outputs": [],
   "source": []
  },
  {
   "cell_type": "markdown",
   "id": "71304cb4",
   "metadata": {},
   "source": [
    "## Perform regression tasks on data"
   ]
  },
  {
   "cell_type": "code",
   "execution_count": null,
   "id": "d6586a84",
   "metadata": {},
   "outputs": [],
   "source": []
  },
  {
   "cell_type": "code",
   "execution_count": null,
   "id": "1a6ad3c9",
   "metadata": {},
   "outputs": [],
   "source": []
  },
  {
   "cell_type": "code",
   "execution_count": null,
   "id": "0b86589a",
   "metadata": {},
   "outputs": [],
   "source": []
  },
  {
   "cell_type": "markdown",
   "id": "e81a3836",
   "metadata": {},
   "source": [
    "## Evaluation of algorithm performance"
   ]
  },
  {
   "cell_type": "code",
   "execution_count": null,
   "id": "67a323bc",
   "metadata": {},
   "outputs": [],
   "source": []
  },
  {
   "cell_type": "code",
   "execution_count": null,
   "id": "3da3ab80",
   "metadata": {},
   "outputs": [],
   "source": []
  },
  {
   "cell_type": "code",
   "execution_count": null,
   "id": "ad7e6389",
   "metadata": {},
   "outputs": [],
   "source": []
  },
  {
   "cell_type": "markdown",
   "id": "70126167",
   "metadata": {},
   "source": [
    "## Conclusion"
   ]
  },
  {
   "cell_type": "code",
   "execution_count": null,
   "id": "80172b1b",
   "metadata": {},
   "outputs": [],
   "source": []
  },
  {
   "cell_type": "code",
   "execution_count": null,
   "id": "4dcb8561",
   "metadata": {},
   "outputs": [],
   "source": []
  },
  {
   "cell_type": "code",
   "execution_count": null,
   "id": "e78531dc",
   "metadata": {},
   "outputs": [],
   "source": []
  },
  {
   "cell_type": "code",
   "execution_count": null,
   "id": "f600bcc4",
   "metadata": {},
   "outputs": [],
   "source": []
  }
 ],
 "metadata": {
  "kernelspec": {
   "display_name": "Julia 1.7.1",
   "language": "julia",
   "name": "julia-1.7"
  },
  "language_info": {
   "file_extension": ".jl",
   "mimetype": "application/julia",
   "name": "julia",
   "version": "1.7.1"
  }
 },
 "nbformat": 4,
 "nbformat_minor": 5
}
