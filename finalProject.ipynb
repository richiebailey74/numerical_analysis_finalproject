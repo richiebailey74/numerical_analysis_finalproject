{
 "cells": [
  {
   "cell_type": "markdown",
   "id": "b606520d",
   "metadata": {},
   "source": [
    "# Numerical Analysis Final Project: Lasso vs Ridge Regression"
   ]
  },
  {
   "cell_type": "code",
   "execution_count": 5,
   "id": "9a3a01de",
   "metadata": {},
   "outputs": [
    {
     "name": "stdout",
     "output_type": "stream",
     "text": [
      "Collecting package metadata (current_repodata.json): ...working... done\n",
      "Solving environment: ...working... done\n",
      "\n",
      "## Package Plan ##\n",
      "\n",
      "  environment location: /Users/dongni31/.julia/conda/3\n",
      "\n",
      "  added / updated specs:\n",
      "    - pandas\n",
      "\n",
      "\n",
      "The following packages will be downloaded:\n",
      "\n",
      "    package                    |            build\n",
      "    ---------------------------|-----------------\n",
      "    pandas-1.4.2               |   py39hbd61c47_1        12.0 MB  conda-forge\n",
      "    python-dateutil-2.8.2      |     pyhd8ed1ab_0         240 KB  conda-forge\n",
      "    pytz-2022.1                |     pyhd8ed1ab_0         242 KB  conda-forge\n",
      "    ------------------------------------------------------------\n",
      "                                           Total:        12.5 MB\n",
      "\n",
      "The following NEW packages will be INSTALLED:\n",
      "\n",
      "  pandas             conda-forge/osx-64::pandas-1.4.2-py39hbd61c47_1\n",
      "  python-dateutil    conda-forge/noarch::python-dateutil-2.8.2-pyhd8ed1ab_0\n",
      "  pytz               conda-forge/noarch::pytz-2022.1-pyhd8ed1ab_0\n",
      "\n",
      "\n",
      "\n",
      "Downloading and Extracting Packages\n",
      "\rpython-dateutil-2.8. | 240 KB    |            |   0% \rpython-dateutil-2.8. | 240 KB    | 6          |   7% \rpython-dateutil-2.8. | 240 KB    | ########## | 100% \n",
      "\rpytz-2022.1          | 242 KB    |            |   0% \rpytz-2022.1          | 242 KB    | ########## | 100% \rpytz-2022.1          | 242 KB    | ########## | 100% \n",
      "\rpandas-1.4.2         | 12.0 MB   |            |   0% \rpandas-1.4.2         | 12.0 MB   | 2          |   2% \rpandas-1.4.2         | 12.0 MB   | ##         |  20% \rpandas-1.4.2         | 12.0 MB   | ####1      |  41% \rpandas-1.4.2         | 12.0 MB   | ######1    |  61% \rpandas-1.4.2         | 12.0 MB   | ########2  |  82% \rpandas-1.4.2         | 12.0 MB   | ########## | 100% \n",
      "Preparing transaction: ...working... done\n",
      "Verifying transaction: ...working... done\n",
      "Executing transaction: ...working... done\n"
     ]
    },
    {
     "name": "stderr",
     "output_type": "stream",
     "text": [
      "\u001b[32m\u001b[1m    Updating\u001b[22m\u001b[39m registry at `~/.julia/registries/General.toml`\n",
      "\u001b[32m\u001b[1m   Resolving\u001b[22m\u001b[39m package versions...\n",
      "\u001b[32m\u001b[1m   Installed\u001b[22m\u001b[39m TableTraitsUtils ─ v1.0.2\n",
      "\u001b[32m\u001b[1m   Installed\u001b[22m\u001b[39m Pandas ─────────── v1.5.3\n",
      "\u001b[32m\u001b[1m   Installed\u001b[22m\u001b[39m VersionParsing ─── v1.3.0\n",
      "\u001b[32m\u001b[1m   Installed\u001b[22m\u001b[39m Lazy ───────────── v0.15.1\n",
      "\u001b[32m\u001b[1m   Installed\u001b[22m\u001b[39m Conda ──────────── v1.7.0\n",
      "\u001b[32m\u001b[1m   Installed\u001b[22m\u001b[39m DataValues ─────── v0.4.13\n",
      "\u001b[32m\u001b[1m   Installed\u001b[22m\u001b[39m PyCall ─────────── v1.93.1\n",
      "\u001b[32m\u001b[1m    Updating\u001b[22m\u001b[39m `~/.julia/environments/v1.7/Project.toml`\n",
      " \u001b[90m [eadc2687] \u001b[39m\u001b[92m+ Pandas v1.5.3\u001b[39m\n",
      "\u001b[32m\u001b[1m    Updating\u001b[22m\u001b[39m `~/.julia/environments/v1.7/Manifest.toml`\n",
      " \u001b[90m [8f4d0f93] \u001b[39m\u001b[92m+ Conda v1.7.0\u001b[39m\n",
      " \u001b[90m [e7dc6d0d] \u001b[39m\u001b[92m+ DataValues v0.4.13\u001b[39m\n",
      " \u001b[90m [50d2b5c4] \u001b[39m\u001b[92m+ Lazy v0.15.1\u001b[39m\n",
      " \u001b[90m [eadc2687] \u001b[39m\u001b[92m+ Pandas v1.5.3\u001b[39m\n",
      " \u001b[90m [438e738f] \u001b[39m\u001b[92m+ PyCall v1.93.1\u001b[39m\n",
      " \u001b[90m [382cd787] \u001b[39m\u001b[92m+ TableTraitsUtils v1.0.2\u001b[39m\n",
      " \u001b[90m [81def892] \u001b[39m\u001b[92m+ VersionParsing v1.3.0\u001b[39m\n",
      "\u001b[32m\u001b[1m    Building\u001b[22m\u001b[39m Conda ─→ `~/.julia/scratchspaces/44cfe95a-1eb2-52ea-b672-e2afdf69b78f/6e47d11ea2776bc5627421d59cdcc1296c058071/build.log`\n",
      "\u001b[32m\u001b[1m    Building\u001b[22m\u001b[39m PyCall → `~/.julia/scratchspaces/44cfe95a-1eb2-52ea-b672-e2afdf69b78f/1fc929f47d7c151c839c5fc1375929766fb8edcc/build.log`\n",
      "\u001b[32m\u001b[1mPrecompiling\u001b[22m\u001b[39m project...\n",
      "\u001b[32m  ✓ \u001b[39m\u001b[90mDataValues\u001b[39m\n",
      "\u001b[32m  ✓ \u001b[39m\u001b[90mTableTraitsUtils\u001b[39m\n",
      "\u001b[32m  ✓ \u001b[39m\u001b[90mLazy\u001b[39m\n",
      "\u001b[32m  ✓ \u001b[39m\u001b[90mPyCall\u001b[39m\n",
      "\u001b[32m  ✓ \u001b[39mPandas\n",
      "  5 dependencies successfully precompiled in 8 seconds (259 already precompiled)\n",
      "┌ Info: Installing pandas via the Conda pandas package...\n",
      "└ @ PyCall /Users/dongni31/.julia/packages/PyCall/7a7w0/src/PyCall.jl:711\n",
      "┌ Info: Running `conda install -y pandas` in root environment\n",
      "└ @ Conda /Users/dongni31/.julia/packages/Conda/x2UxR/src/Conda.jl:127\n",
      "\u001b[32m\u001b[1m   Resolving\u001b[22m\u001b[39m package versions...\n",
      "\u001b[32m\u001b[1m  No Changes\u001b[22m\u001b[39m to `~/.julia/environments/v1.7/Project.toml`\n",
      "\u001b[32m\u001b[1m  No Changes\u001b[22m\u001b[39m to `~/.julia/environments/v1.7/Manifest.toml`\n",
      "\u001b[32m\u001b[1m   Resolving\u001b[22m\u001b[39m package versions...\n",
      "\u001b[32m\u001b[1m   Installed\u001b[22m\u001b[39m InvertedIndices ─ v1.1.0\n",
      "\u001b[32m\u001b[1m   Installed\u001b[22m\u001b[39m PooledArrays ──── v1.4.1\n",
      "\u001b[32m\u001b[1m   Installed\u001b[22m\u001b[39m DataFrames ────── v1.3.3\n",
      "\u001b[32m\u001b[1m    Updating\u001b[22m\u001b[39m `~/.julia/environments/v1.7/Project.toml`\n",
      " \u001b[90m [a93c6f00] \u001b[39m\u001b[92m+ DataFrames v1.3.3\u001b[39m\n",
      "\u001b[32m\u001b[1m    Updating\u001b[22m\u001b[39m `~/.julia/environments/v1.7/Manifest.toml`\n",
      " \u001b[90m [a93c6f00] \u001b[39m\u001b[92m+ DataFrames v1.3.3\u001b[39m\n",
      " \u001b[90m [41ab1584] \u001b[39m\u001b[92m+ InvertedIndices v1.1.0\u001b[39m\n",
      " \u001b[90m [2dfb63ee] \u001b[39m\u001b[92m+ PooledArrays v1.4.1\u001b[39m\n",
      "\u001b[32m\u001b[1mPrecompiling\u001b[22m\u001b[39m project...\n",
      "\u001b[32m  ✓ \u001b[39m\u001b[90mInvertedIndices\u001b[39m\n",
      "\u001b[32m  ✓ \u001b[39m\u001b[90mPooledArrays\u001b[39m\n",
      "\u001b[32m  ✓ \u001b[39mDataFrames\n",
      "  3 dependencies successfully precompiled in 19 seconds (264 already precompiled)\n",
      "\u001b[32m\u001b[1m   Resolving\u001b[22m\u001b[39m package versions...\n",
      "\u001b[32m\u001b[1m  No Changes\u001b[22m\u001b[39m to `~/.julia/environments/v1.7/Project.toml`\n",
      "\u001b[32m\u001b[1m  No Changes\u001b[22m\u001b[39m to `~/.julia/environments/v1.7/Manifest.toml`\n",
      "\u001b[32m\u001b[1m   Resolving\u001b[22m\u001b[39m package versions...\n",
      "\u001b[32m\u001b[1m  No Changes\u001b[22m\u001b[39m to `~/.julia/environments/v1.7/Project.toml`\n",
      "\u001b[32m\u001b[1m  No Changes\u001b[22m\u001b[39m to `~/.julia/environments/v1.7/Manifest.toml`\n",
      "\u001b[32m\u001b[1m   Resolving\u001b[22m\u001b[39m package versions...\n",
      "\u001b[32m\u001b[1m   Installed\u001b[22m\u001b[39m CodecZlib ────────── v0.7.0\n",
      "\u001b[32m\u001b[1m   Installed\u001b[22m\u001b[39m WeakRefStrings ───── v1.4.2\n",
      "\u001b[32m\u001b[1m   Installed\u001b[22m\u001b[39m SentinelArrays ───── v1.3.12\n",
      "\u001b[32m\u001b[1m   Installed\u001b[22m\u001b[39m FilePathsBase ────── v0.9.18\n",
      "\u001b[32m\u001b[1m   Installed\u001b[22m\u001b[39m TranscodingStreams ─ v0.9.6\n",
      "\u001b[32m\u001b[1m   Installed\u001b[22m\u001b[39m CSV ──────────────── v0.10.2\n",
      "\u001b[32m\u001b[1m    Updating\u001b[22m\u001b[39m `~/.julia/environments/v1.7/Project.toml`\n",
      " \u001b[90m [336ed68f] \u001b[39m\u001b[92m+ CSV v0.10.2\u001b[39m\n",
      "\u001b[32m\u001b[1m    Updating\u001b[22m\u001b[39m `~/.julia/environments/v1.7/Manifest.toml`\n",
      " \u001b[90m [336ed68f] \u001b[39m\u001b[92m+ CSV v0.10.2\u001b[39m\n",
      " \u001b[90m [944b1d66] \u001b[39m\u001b[92m+ CodecZlib v0.7.0\u001b[39m\n",
      " \u001b[90m [48062228] \u001b[39m\u001b[92m+ FilePathsBase v0.9.18\u001b[39m\n",
      " \u001b[90m [91c51154] \u001b[39m\u001b[92m+ SentinelArrays v1.3.12\u001b[39m\n",
      " \u001b[90m [3bb67fe8] \u001b[39m\u001b[92m+ TranscodingStreams v0.9.6\u001b[39m\n",
      " \u001b[90m [ea10d353] \u001b[39m\u001b[92m+ WeakRefStrings v1.4.2\u001b[39m\n",
      "\u001b[32m\u001b[1mPrecompiling\u001b[22m\u001b[39m project...\n",
      "\u001b[32m  ✓ \u001b[39m\u001b[90mTranscodingStreams\u001b[39m\n",
      "\u001b[32m  ✓ \u001b[39m\u001b[90mSentinelArrays\u001b[39m\n",
      "\u001b[32m  ✓ \u001b[39m\u001b[90mCodecZlib\u001b[39m\n",
      "\u001b[32m  ✓ \u001b[39m\u001b[90mFilePathsBase\u001b[39m\n",
      "\u001b[32m  ✓ \u001b[39m\u001b[90mWeakRefStrings\u001b[39m\n",
      "\u001b[32m  ✓ \u001b[39mCSV\n",
      "  6 dependencies successfully precompiled in 6 seconds (267 already precompiled)\n"
     ]
    }
   ],
   "source": [
    "using Pkg\n",
    "Pkg.add(\"Pandas\")\n",
    "using Pandas\n",
    "using LinearAlgebra\n",
    "Pkg.add(\"DataFrames\")\n",
    "using DataFrames\n",
    "Pkg.add(\"CSV\")\n",
    "using CSV"
   ]
  },
  {
   "cell_type": "markdown",
   "id": "21e3d701",
   "metadata": {},
   "source": [
    "## Import data"
   ]
  },
  {
   "cell_type": "code",
   "execution_count": 6,
   "id": "a2de6fb6",
   "metadata": {},
   "outputs": [],
   "source": [
    "matrix_data_temp = CSV.File(\"median_housing_cost_data.tsv\") |> Tables.matrix\n",
    "matrix_data = matrix_data_temp[:,2:9];"
   ]
  },
  {
   "cell_type": "code",
   "execution_count": 7,
   "id": "4ee058d4",
   "metadata": {},
   "outputs": [
    {
     "ename": "ArgumentError",
     "evalue": "ArgumentError: \"housing_cost_targets.tsv\" is not a valid file or doesn't exist",
     "output_type": "error",
     "traceback": [
      "ArgumentError: \"housing_cost_targets.tsv\" is not a valid file or doesn't exist\n",
      "\n",
      "Stacktrace:\n",
      "  [1] CSV.Context(source::CSV.Arg, header::CSV.Arg, normalizenames::CSV.Arg, datarow::CSV.Arg, skipto::CSV.Arg, footerskip::CSV.Arg, transpose::CSV.Arg, comment::CSV.Arg, ignoreemptyrows::CSV.Arg, ignoreemptylines::CSV.Arg, select::CSV.Arg, drop::CSV.Arg, limit::CSV.Arg, buffer_in_memory::CSV.Arg, threaded::CSV.Arg, ntasks::CSV.Arg, tasks::CSV.Arg, rows_to_check::CSV.Arg, lines_to_check::CSV.Arg, missingstrings::CSV.Arg, missingstring::CSV.Arg, delim::CSV.Arg, ignorerepeated::CSV.Arg, quoted::CSV.Arg, quotechar::CSV.Arg, openquotechar::CSV.Arg, closequotechar::CSV.Arg, escapechar::CSV.Arg, dateformat::CSV.Arg, dateformats::CSV.Arg, decimal::CSV.Arg, truestrings::CSV.Arg, falsestrings::CSV.Arg, stripwhitespace::CSV.Arg, type::CSV.Arg, types::CSV.Arg, typemap::CSV.Arg, pool::CSV.Arg, downcast::CSV.Arg, lazystrings::CSV.Arg, stringtype::CSV.Arg, strict::CSV.Arg, silencewarnings::CSV.Arg, maxwarnings::CSV.Arg, debug::CSV.Arg, parsingdebug::CSV.Arg, validate::CSV.Arg, streaming::CSV.Arg)\n",
      "    @ CSV ~/.julia/packages/CSV/0Elut/src/context.jl:236\n",
      "  [2] #File#25\n",
      "    @ ~/.julia/packages/CSV/0Elut/src/file.jl:221 [inlined]\n",
      "  [3] CSV.File(source::String)\n",
      "    @ CSV ~/.julia/packages/CSV/0Elut/src/file.jl:221\n",
      "  [4] top-level scope\n",
      "    @ ~/Documents/School/SPR22/COT4501/numerical_analysis_finalproject/finalProject.ipynb:1\n",
      "  [5] eval\n",
      "    @ ./boot.jl:373 [inlined]\n",
      "  [6] include_string(mapexpr::typeof(REPL.softscope), mod::Module, code::String, filename::String)\n",
      "    @ Base ./loading.jl:1196\n",
      "  [7] #invokelatest#2\n",
      "    @ ./essentials.jl:716 [inlined]\n",
      "  [8] invokelatest\n",
      "    @ ./essentials.jl:714 [inlined]\n",
      "  [9] (::VSCodeServer.var\"#164#165\"{VSCodeServer.NotebookRunCellArguments, String})()\n",
      "    @ VSCodeServer ~/.vscode/extensions/julialang.language-julia-1.6.17/scripts/packages/VSCodeServer/src/serve_notebook.jl:19\n",
      " [10] withpath(f::VSCodeServer.var\"#164#165\"{VSCodeServer.NotebookRunCellArguments, String}, path::String)\n",
      "    @ VSCodeServer ~/.vscode/extensions/julialang.language-julia-1.6.17/scripts/packages/VSCodeServer/src/repl.jl:184\n",
      " [11] notebook_runcell_request(conn::VSCodeServer.JSONRPC.JSONRPCEndpoint{Base.PipeEndpoint, Base.PipeEndpoint}, params::VSCodeServer.NotebookRunCellArguments)\n",
      "    @ VSCodeServer ~/.vscode/extensions/julialang.language-julia-1.6.17/scripts/packages/VSCodeServer/src/serve_notebook.jl:13\n",
      " [12] dispatch_msg(x::VSCodeServer.JSONRPC.JSONRPCEndpoint{Base.PipeEndpoint, Base.PipeEndpoint}, dispatcher::VSCodeServer.JSONRPC.MsgDispatcher, msg::Dict{String, Any})\n",
      "    @ VSCodeServer.JSONRPC ~/.vscode/extensions/julialang.language-julia-1.6.17/scripts/packages/JSONRPC/src/typed.jl:67\n",
      " [13] serve_notebook(pipename::String, outputchannel_logger::Base.CoreLogging.SimpleLogger; crashreporting_pipename::String)\n",
      "    @ VSCodeServer ~/.vscode/extensions/julialang.language-julia-1.6.17/scripts/packages/VSCodeServer/src/serve_notebook.jl:136\n",
      " [14] top-level scope\n",
      "    @ ~/.vscode/extensions/julialang.language-julia-1.6.17/scripts/notebook/notebook.jl:32\n",
      " [15] include(mod::Module, _path::String)\n",
      "    @ Base ./Base.jl:418\n",
      " [16] exec_options(opts::Base.JLOptions)\n",
      "    @ Base ./client.jl:292\n",
      " [17] _start()\n",
      "    @ Base ./client.jl:495"
     ]
    }
   ],
   "source": [
    "matrix_target_temp = CSV.File(\"housing_cost_targets.tsv\") |> Tables.matrix\n",
    "matrix_target = matrix_target_temp[:,2];"
   ]
  },
  {
   "cell_type": "code",
   "execution_count": null,
   "id": "ee2793bf",
   "metadata": {},
   "outputs": [],
   "source": [
    "# train test split (test proportion of 20%) - test has 4128 samples, train has 16512 samples\n",
    "\n",
    "matrix_data_train = matrix_data[1:16512, :];\n",
    "matrix_data_test = matrix_data[16513:20640, :];\n",
    "\n",
    "matrix_target_train = matrix_target[1:16512, :];\n",
    "matrix_target_test = matrix_target[16513:20640, :];"
   ]
  },
  {
   "cell_type": "code",
   "execution_count": null,
   "id": "60520714",
   "metadata": {},
   "outputs": [],
   "source": [
    "# normalize data (min max normalize)\n",
    "#comment this out and run cell above if we wish to do it without normalizing\n",
    "\n",
    "for i in 1:size(matrix_data_train)[2]\n",
    "    \n",
    "    matrix_data_train[:,i] = (matrix_data_train[:,i] .- findmin(matrix_data_train[:,i])[1]) ./ (findmax(matrix_data_train[:,i])[1] - findmin(matrix_data_train[:,i])[1]);\n",
    "    matrix_data_test[:,i] = (matrix_data_test[:,i] .- findmin(matrix_data_test[:,i])[1]) ./ (findmax(matrix_data_test[:,i])[1] - findmin(matrix_data_test[:,i])[1]);\n",
    "\n",
    "end\n",
    "\n",
    "matrix_target_train = (matrix_target_train .- findmin(matrix_target_train)[1]) ./ (findmax(matrix_target_train)[1] - findmin(matrix_target_train)[1]);\n",
    "matrix_target_test = (matrix_target_test .- findmin(matrix_target_test)[1]) ./ (findmax(matrix_target_test)[1] - findmin(matrix_target_test)[1]);"
   ]
  },
  {
   "cell_type": "code",
   "execution_count": 35,
   "id": "82afa2c5",
   "metadata": {},
   "outputs": [
    {
     "data": {
      "text/html": [
       "Unnamed: 0    20639.000000\n",
       "MedInc            2.388600\n",
       "HouseAge         16.000000\n",
       "AveRooms          5.254717\n",
       "AveBedrms         1.162264\n",
       "Population     1387.000000\n",
       "AveOccup          2.616981\n",
       "Latitude         39.370000\n",
       "Longitude      -121.240000\n",
       "Name: 20639, dtype: float64\n"
      ],
      "text/plain": [
       "Unnamed: 0    20639.000000\n",
       "MedInc            2.388600\n",
       "HouseAge         16.000000\n",
       "AveRooms          5.254717\n",
       "AveBedrms         1.162264\n",
       "Population     1387.000000\n",
       "AveOccup          2.616981\n",
       "Latitude         39.370000\n",
       "Longitude      -121.240000\n",
       "Name: 20639, dtype: float64\n"
      ]
     },
     "execution_count": 35,
     "metadata": {},
     "output_type": "execute_result"
    }
   ],
   "source": [
    "x = iloc(df)[0]"
   ]
  },
  {
   "cell_type": "code",
   "execution_count": null,
   "id": "63f85459",
   "metadata": {},
   "outputs": [],
   "source": []
  },
  {
   "cell_type": "markdown",
   "id": "75200bd4",
   "metadata": {},
   "source": [
    "## Motivating factor"
   ]
  },
  {
   "cell_type": "code",
   "execution_count": null,
   "id": "cdef5f46",
   "metadata": {},
   "outputs": [],
   "source": [
    "# talk about median household costs and how maximizing posterior probabilities to estimate cost is goal"
   ]
  },
  {
   "cell_type": "code",
   "execution_count": null,
   "id": "69eb3bcb",
   "metadata": {},
   "outputs": [],
   "source": []
  },
  {
   "cell_type": "code",
   "execution_count": null,
   "id": "0a6742e3",
   "metadata": {},
   "outputs": [],
   "source": []
  },
  {
   "cell_type": "markdown",
   "id": "addc8dd1",
   "metadata": {},
   "source": [
    "## Regression tasks derived from maximizing posterior probabilities"
   ]
  },
  {
   "cell_type": "code",
   "execution_count": null,
   "id": "31b41861",
   "metadata": {},
   "outputs": [],
   "source": []
  },
  {
   "cell_type": "code",
   "execution_count": null,
   "id": "37843f87",
   "metadata": {},
   "outputs": [],
   "source": []
  },
  {
   "cell_type": "code",
   "execution_count": null,
   "id": "f501813e",
   "metadata": {},
   "outputs": [],
   "source": []
  },
  {
   "cell_type": "markdown",
   "id": "80429285",
   "metadata": {},
   "source": [
    "## Solutions to regression tasks"
   ]
  },
  {
   "cell_type": "code",
   "execution_count": null,
   "id": "768dcb40",
   "metadata": {},
   "outputs": [],
   "source": []
  },
  {
   "cell_type": "code",
   "execution_count": null,
   "id": "ec865fdb",
   "metadata": {},
   "outputs": [],
   "source": []
  },
  {
   "cell_type": "code",
   "execution_count": null,
   "id": "db72868a",
   "metadata": {},
   "outputs": [],
   "source": []
  },
  {
   "cell_type": "code",
   "execution_count": null,
   "id": "20571f23",
   "metadata": {},
   "outputs": [],
   "source": []
  },
  {
   "cell_type": "markdown",
   "id": "4a2bf9dc",
   "metadata": {},
   "source": [
    "## Code solutions for regression tasks"
   ]
  },
  {
   "cell_type": "code",
   "execution_count": 49,
   "id": "e64bab2d",
   "metadata": {},
   "outputs": [
    {
     "data": {
      "text/plain": [
       "linear_regression_ridge (generic function with 1 method)"
      ]
     },
     "execution_count": 49,
     "metadata": {},
     "output_type": "execute_result"
    }
   ],
   "source": [
    "function linear_regression_ridge(X,y,lambda)\n",
    "    \n",
    "    s = size(X)[1]\n",
    "    Im =1* Matrix(I, s, s)\n",
    "    \n",
    "    w = inv(transpose(X)*X + lambda*Im) * transpose(X) * y\n",
    "    \n",
    "    pred = X * w\n",
    "    \n",
    "    err = y - pred\n",
    "    \n",
    "    return w, pred, err    \n",
    "    \n",
    "end"
   ]
  },
  {
   "cell_type": "code",
   "execution_count": null,
   "id": "23f1f0bb",
   "metadata": {},
   "outputs": [],
   "source": [
    "function linear_regression_lasso(X,y,lambda)\n",
    "    \n",
    "    \n",
    "end"
   ]
  },
  {
   "cell_type": "code",
   "execution_count": 52,
   "id": "0a01c4e3",
   "metadata": {},
   "outputs": [
    {
     "data": {
      "text/plain": [
       "linear_regression_test (generic function with 1 method)"
      ]
     },
     "execution_count": 52,
     "metadata": {},
     "output_type": "execute_result"
    }
   ],
   "source": [
    "function linear_regression_test(X,w)\n",
    "    \n",
    "    pred = X * w\n",
    "    \n",
    "    return pred\n",
    "    \n",
    "end"
   ]
  },
  {
   "cell_type": "code",
   "execution_count": null,
   "id": "5a9bb10a",
   "metadata": {},
   "outputs": [],
   "source": []
  },
  {
   "cell_type": "code",
   "execution_count": null,
   "id": "dbf36886",
   "metadata": {},
   "outputs": [],
   "source": []
  },
  {
   "cell_type": "markdown",
   "id": "ff64eaf9",
   "metadata": {},
   "source": [
    "## Analysis of algorithms: conditioning, complexities, and flop counts"
   ]
  },
  {
   "cell_type": "code",
   "execution_count": null,
   "id": "ccd077e6",
   "metadata": {},
   "outputs": [],
   "source": [
    "function lasso_condition_num(X, y, lambda) \n",
    "    t1 = transpose(X); #Condition of transpose is the same as that of a matrix.\n",
    "    t2 = t1 * X; \n",
    "    k1 = norm(t1 * X) * norm(inv(t1 * X)); # k(t2) = ||t1 *X|| * ||(t1 *X)^-1||\n",
    "    t3 = inv(t2); #Condition number of inverse of a matrix is the same as that of a  matrix.\n",
    "    t4 = t3 * t1;\n",
    "    k2 = norm(t3 * t1) * norm(inv(t3 * t1)); # k(t4) = ||t3 * t1|| * ||(t3 * t1)^-1||\n",
    "    t5 = t4 * y; \n",
    "    k3 = norm(t4 * y) * norm(inv(t4 * y)); #k(t5) = ||t4 * y|| * ||(t4 * y)^-1||\n",
    "    t6 = abs.(t5) #Condition of absolute is the same as that of a matrix.\n",
    "    t7 = t6 .- lambda;\n",
    "    k4 = norm(t6 .- lambda) * norm(inv(t6 .- lmbda)); #k(t7) = ||t6 .- lambda|| * ||(t6 .- lambda)^-1||\n",
    "    t8 = sign.(t5) .* t7; \n",
    "    k5 = norm(sign.(w) .* t7) * norm(inv(sign.(w) .* t7)); #k(t8) = ||sign.(w) .* t7|| * ||(sign.(w) .* t7)^-1||\n",
    "    t9 = X * t8;\n",
    "    k6 = norm(X * t8) * norm(inv(X * t8)); #k(t9) = ||X * t8|| * ||(X * t8)^-1||\n",
    "    t10 = y - t9; \n",
    "    k7 = norm(y - t9) * norm(inv(y - t9)); #k(t10) = ||y - t9|| * ||(y - t9)||\n",
    "    println(k1, k2, k3, k4, k5, k6, k7);\n",
    "  \n",
    "  end"
   ]
  },
  {
   "cell_type": "code",
   "execution_count": null,
   "id": "fcb526fb",
   "metadata": {},
   "outputs": [],
   "source": [
    "function lasso_condition_fixed(X, y, lambda) {\n",
    "    learning_rate = .025\n",
    "    iterations = 8000\n",
    "    l1_penalty = lambda\n",
    "    n = size(X)[2] # feature number\n",
    "    m = size(X)[1] #sample number\n",
    "    w = zeros(n) # shape of the params (feature #)\n",
    "    b = 0\n",
    "    #Above declarations are all well-condtioned since they are assigning values to variables.\n",
    "    k = Vector{Float64}(); #This var will contain largest condition number from all operations\n",
    "\n",
    "    for i in 1:iterations\n",
    "        y_pred = zeros(m); #Well-conditioned since it's assigning zeros to variable\n",
    "        for k in 1:m\n",
    "            eq1 = dot(X[k,:], w);\n",
    "            k1 = (norm(X[k,:]) * norm(w)) / (X[k,:] * w); #Condition number for dot product is cond f(x) = 1/cos(x,y) = inverse cosine angle between both vectors\n",
    "            push!(k,k1)\n",
    "\n",
    "            eq2 = eq1 + b;\n",
    "            y_pred[k] = eq2;\n",
    "            k2 = abs(eq1 / (eq2)); # abs(eq1 / (eq1 + b))\n",
    "            push!(k,k2)\n",
    "        end\n",
    "\n",
    "        #calculate gradients\n",
    "        dW = zeros(n) # shape of the params (feature #)\n",
    "        #Well-condtioned since it's assigning zeros to variable \n",
    "        for j in 1:n\n",
    "            if w[j] > 0\n",
    "                eq3 = y - y_pred; \n",
    "                #conditioning would be determined by the conditioning of of the subtraction of every respective element\n",
    "                k3 = norm(y - y_pred);\n",
    "                push!(k,k3)\n",
    "\n",
    "                eq4 = dot(X[:,j], eq3);\n",
    "                k4 = (norm(X[k,:]) * norm(w)) / (X[k,:] * w);\n",
    "                push!(k,k4)\n",
    "\n",
    "                eq5 = 2 * eq4; #Condition Number 1 since multiplying by scalar.\n",
    "                k5 = 1;\n",
    "                push!(k,k5)\n",
    "\n",
    "                eq6 = -1 * eq5;\n",
    "                #Condition Number 1 since multiplying by scalar.\n",
    "                k6 = 1;\n",
    "                push!(k,k6)\n",
    "\n",
    "                eq7 = eq6 + l1_penalty;\n",
    "                k7 = norm(eq6 + l1_penalty);\n",
    "                push!(k,k7)\n",
    "\n",
    "                eq8 = eq7 ./ m;\n",
    "                dW[j] = eq8;\n",
    "                #Condition number is 1 since it is the element division of two variables\n",
    "                k8 = 1;\n",
    "                push!(k,k8)\n",
    "            else\n",
    "                eq9 = y - y_pred; \n",
    "                #conditioning would be determined by the conditioning of of the subtraction of every respective element\n",
    "                k9 = norm(y - y_pred);\n",
    "                push!(k,k9)\n",
    "\n",
    "                eq10 = dot(X[:,j], eq3);\n",
    "                k10 = (norm(X[k,:]) * norm(w)) / (X[k,:] * w);\n",
    "                push!(k,k10)\n",
    "\n",
    "                eq11 = 2 * eq4; #Condition Number 1 since multiplying by scalar.\n",
    "                k11 = 1;\n",
    "                push!(k,k11)\n",
    "\n",
    "                eq12 = -1 * eq5;\n",
    "                #Condition Number 1 since multiplying by scalar.\n",
    "                k12 = 1;\n",
    "                push!(k,k12)\n",
    "\n",
    "                eq13 = eq6 - l1_penalty;\n",
    "                k13 = norm(eq6 - l1_penalty);\n",
    "                push!(k,k13)\n",
    "\n",
    "                eq14 = eq7 ./ m;\n",
    "                dW[j] = eq14;\n",
    "                #Condition number is 1 since it is the element division of two variables\n",
    "                k14 = 1;\n",
    "                push!(k,k14)\n",
    "            end\n",
    "\n",
    "            eq15 = y - y_pred;\n",
    "            k15 = norm(y - y_pred);\n",
    "            push!(k,k15)\n",
    "\n",
    "            eq16 = sum(eq15);\n",
    "            k16 = 1;\n",
    "            push!(k,k16)\n",
    "\n",
    "            eq17 = - 2 * eq16; #Scalar multiplicaiton in well-conditioned\n",
    "            k17 = 1;\n",
    "            push!(k,k17)\n",
    "\n",
    "            eq18 = eq17 ./ m; # dividing by a scalar m is well-conditioned\n",
    "            db = eq18;\n",
    "            k18 = 1;\n",
    "            push!(k,k18)\n",
    "\n",
    "            eq19 = learning_rate*dW; #scalar multiplication is well-conditioned\n",
    "            k19 = 1;\n",
    "            push!(k,k19)\n",
    "\n",
    "            eq20 = w - eq19;\n",
    "            w = eq20;\n",
    "            k20 = norm(w - eq19);\n",
    "            push!(k,k20)\n",
    "\n",
    "            eq21 = learning_rate*db; #scalar multiplication is well-conditioned\n",
    "            k21 = 1; \n",
    "            push!(k,k21)\n",
    "\n",
    "            eq22 = b - eq21;\n",
    "            b = eq22;\n",
    "            k22 = norm(b - eq21);\n",
    "            push!(k,k22)\n",
    "\n",
    "        end\n",
    "        return k;\n",
    "    end\n",
    "\n",
    "}"
   ]
  },
  {
   "cell_type": "code",
   "execution_count": null,
   "id": "4ad50977",
   "metadata": {},
   "outputs": [],
   "source": [
    "lambdas = [.000001, .00001, .0001, .001, .01, .05, .1, .5, 1.5, 5, 10, 12, 15, 18, 20];\n",
    "k = [0,0,0,0,0,0,0,0,0,0]\n",
    "\n",
    "for it in lambdas\n",
    "    #conditioning\n",
    "    k = lasso_condition_fixed(matrix_data_train,matrix_target_train,it)\n",
    "    K = hcat(K, k)\n",
    "\n",
    "end"
   ]
  },
  {
   "cell_type": "code",
   "execution_count": null,
   "id": "e0269412",
   "metadata": {},
   "outputs": [],
   "source": [
    "# Display the conditioning of each iteration of the lasso regression\n",
    "K'"
   ]
  },
  {
   "cell_type": "markdown",
   "id": "71304cb4",
   "metadata": {},
   "source": [
    "## Perform regression tasks on data"
   ]
  },
  {
   "cell_type": "code",
   "execution_count": null,
   "id": "d6586a84",
   "metadata": {},
   "outputs": [],
   "source": []
  },
  {
   "cell_type": "code",
   "execution_count": null,
   "id": "1a6ad3c9",
   "metadata": {},
   "outputs": [],
   "source": []
  },
  {
   "cell_type": "code",
   "execution_count": null,
   "id": "0b86589a",
   "metadata": {},
   "outputs": [],
   "source": []
  },
  {
   "cell_type": "markdown",
   "id": "e81a3836",
   "metadata": {},
   "source": [
    "## Evaluation of algorithm performance"
   ]
  },
  {
   "cell_type": "code",
   "execution_count": null,
   "id": "67a323bc",
   "metadata": {},
   "outputs": [],
   "source": []
  },
  {
   "cell_type": "code",
   "execution_count": null,
   "id": "3da3ab80",
   "metadata": {},
   "outputs": [],
   "source": []
  },
  {
   "cell_type": "code",
   "execution_count": null,
   "id": "ad7e6389",
   "metadata": {},
   "outputs": [],
   "source": []
  },
  {
   "cell_type": "markdown",
   "id": "70126167",
   "metadata": {},
   "source": [
    "## Conclusion"
   ]
  },
  {
   "cell_type": "code",
   "execution_count": null,
   "id": "80172b1b",
   "metadata": {},
   "outputs": [],
   "source": []
  },
  {
   "cell_type": "code",
   "execution_count": null,
   "id": "4dcb8561",
   "metadata": {},
   "outputs": [],
   "source": []
  },
  {
   "cell_type": "code",
   "execution_count": null,
   "id": "e78531dc",
   "metadata": {},
   "outputs": [],
   "source": []
  },
  {
   "cell_type": "code",
   "execution_count": null,
   "id": "f600bcc4",
   "metadata": {},
   "outputs": [],
   "source": []
  }
 ],
 "metadata": {
  "kernelspec": {
   "display_name": "Julia 1.7.2",
   "language": "julia",
   "name": "julia-1.7"
  },
  "language_info": {
   "file_extension": ".jl",
   "mimetype": "application/julia",
   "name": "julia",
   "version": "1.7.2"
  }
 },
 "nbformat": 4,
 "nbformat_minor": 5
}
